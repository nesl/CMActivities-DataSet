{
 "cells": [
  {
   "cell_type": "markdown",
   "metadata": {},
   "source": [
    "# Fushion of IMU and Audio features\n",
    "\n",
    "## Training on augmented datasets: 1000ms augmentation case.\n",
    "- Training is done by including: 1-shift (50ms), 2-shifts (100ms), 10-shifts (500ms), 20-shifts (1000ms)"
   ]
  },
  {
   "cell_type": "markdown",
   "metadata": {},
   "source": [
    "## IMU and Audio data is concatenated at an intermediate layer and then prediction is made"
   ]
  },
  {
   "cell_type": "code",
   "execution_count": 1,
   "metadata": {},
   "outputs": [
    {
     "name": "stderr",
     "output_type": "stream",
     "text": [
      "Using TensorFlow backend.\n",
      "/home/nesl/anaconda3/envs/py36/lib/python3.6/site-packages/tensorflow/python/framework/dtypes.py:523: FutureWarning: Passing (type, 1) or '1type' as a synonym of type is deprecated; in a future version of numpy, it will be understood as (type, (1,)) / '(1,)type'.\n",
      "  _np_qint8 = np.dtype([(\"qint8\", np.int8, 1)])\n",
      "/home/nesl/anaconda3/envs/py36/lib/python3.6/site-packages/tensorflow/python/framework/dtypes.py:524: FutureWarning: Passing (type, 1) or '1type' as a synonym of type is deprecated; in a future version of numpy, it will be understood as (type, (1,)) / '(1,)type'.\n",
      "  _np_quint8 = np.dtype([(\"quint8\", np.uint8, 1)])\n",
      "/home/nesl/anaconda3/envs/py36/lib/python3.6/site-packages/tensorflow/python/framework/dtypes.py:525: FutureWarning: Passing (type, 1) or '1type' as a synonym of type is deprecated; in a future version of numpy, it will be understood as (type, (1,)) / '(1,)type'.\n",
      "  _np_qint16 = np.dtype([(\"qint16\", np.int16, 1)])\n",
      "/home/nesl/anaconda3/envs/py36/lib/python3.6/site-packages/tensorflow/python/framework/dtypes.py:526: FutureWarning: Passing (type, 1) or '1type' as a synonym of type is deprecated; in a future version of numpy, it will be understood as (type, (1,)) / '(1,)type'.\n",
      "  _np_quint16 = np.dtype([(\"quint16\", np.uint16, 1)])\n",
      "/home/nesl/anaconda3/envs/py36/lib/python3.6/site-packages/tensorflow/python/framework/dtypes.py:527: FutureWarning: Passing (type, 1) or '1type' as a synonym of type is deprecated; in a future version of numpy, it will be understood as (type, (1,)) / '(1,)type'.\n",
      "  _np_qint32 = np.dtype([(\"qint32\", np.int32, 1)])\n",
      "/home/nesl/anaconda3/envs/py36/lib/python3.6/site-packages/tensorflow/python/framework/dtypes.py:532: FutureWarning: Passing (type, 1) or '1type' as a synonym of type is deprecated; in a future version of numpy, it will be understood as (type, (1,)) / '(1,)type'.\n",
      "  np_resource = np.dtype([(\"resource\", np.ubyte, 1)])\n"
     ]
    }
   ],
   "source": [
    "import numpy as np\n",
    "import scipy.io\n",
    "\n",
    "from keras import optimizers\n",
    "from keras.optimizers import SGD\n",
    "from keras.optimizers import Adam\n",
    "from keras.metrics import categorical_crossentropy\n",
    "from keras.layers.normalization import BatchNormalization\n",
    "from keras.layers.convolutional import *\n",
    "from keras.callbacks import Callback\n",
    "from keras.callbacks import ModelCheckpoint\n",
    "\n",
    "\n",
    "import keras\n",
    "from keras.models import Sequential\n",
    "from keras.layers import Conv2D, MaxPooling2D, LSTM, Dense, Dropout, Flatten, Activation\n",
    "from keras.layers.core import Permute, Reshape\n",
    "from keras import backend as K\n",
    "\n",
    "from matplotlib import pyplot as plt\n",
    "from PIL import Image as img_PIL\n",
    "\n",
    "\n",
    "# random seed.\n",
    "rand_seed = 2\n",
    "\n",
    "from numpy.random import seed\n",
    "seed(rand_seed)\n",
    "from tensorflow import set_random_seed\n",
    "set_random_seed(rand_seed)"
   ]
  },
  {
   "cell_type": "code",
   "execution_count": 2,
   "metadata": {},
   "outputs": [],
   "source": [
    "def one_hot_encoding(y_data):\n",
    "    Mapping=dict()\n",
    "    sub_dirs=['downstair','upstair','run','jump','walk','handwashing','exercise']\n",
    "\n",
    "    categories=7\n",
    "\n",
    "    count=0\n",
    "    for i in sub_dirs:\n",
    "        Mapping[i]=count\n",
    "        count=count+1\n",
    "\n",
    "    y_features2=[]\n",
    "    for i in range(len(y_data)):\n",
    "        Type=y_data[i]\n",
    "        lab=Mapping[Type]\n",
    "        y_features2.append(lab)\n",
    "\n",
    "    y_features=np.array(y_features2)\n",
    "    y_features=y_features.reshape(y_features.shape[0],1)\n",
    "    from keras.utils import to_categorical\n",
    "    y_features = to_categorical(y_features)\n",
    "\n",
    "    return y_features"
   ]
  },
  {
   "cell_type": "code",
   "execution_count": 3,
   "metadata": {},
   "outputs": [],
   "source": [
    "path='data/'\n",
    "\n",
    "\n",
    "def get_train_data(path=path):\n",
    "    Train_data=np.load(path+'train_5000.npz')\n",
    "    Features_imu=Train_data['arr_0']\n",
    "    Labels=Train_data['arr_1']\n",
    "    Features_sound=Train_data['arr_2']\n",
    "\n",
    "    Labels = one_hot_encoding(Labels)\n",
    "    Features_imu = Features_imu.reshape(Features_imu.shape[0],1, Features_imu.shape[1], Features_imu.shape[2]) \n",
    "\n",
    "    return Features_imu,Labels,Features_sound\n",
    "\n",
    "def get_valid_data(path=path):\n",
    "    Train_data=np.load(path+'valid_1000.npz')\n",
    "    Features_imu=Train_data['arr_0']\n",
    "    Labels=Train_data['arr_1']\n",
    "    Features_sound=Train_data['arr_2']\n",
    "\n",
    "    Labels = one_hot_encoding(Labels)\n",
    "    Features_imu = Features_imu.reshape(Features_imu.shape[0],1, Features_imu.shape[1], Features_imu.shape[2]) \n",
    "\n",
    "    return Features_imu,Labels,Features_sound\n",
    "\n",
    "def get_test_data(path=path):\n",
    "    Train_data=np.load(path+'test_1377.npz')\n",
    "    Features_imu=Train_data['arr_0']\n",
    "    Labels=Train_data['arr_1']\n",
    "    Features_sound=Train_data['arr_2']\n",
    "\n",
    "    Labels = one_hot_encoding(Labels)\n",
    "    Features_imu = Features_imu.reshape(Features_imu.shape[0],1, Features_imu.shape[1], Features_imu.shape[2]) \n",
    "\n",
    "    return Features_imu,Labels,Features_sound\n"
   ]
  },
  {
   "cell_type": "code",
   "execution_count": 4,
   "metadata": {},
   "outputs": [
    {
     "name": "stdout",
     "output_type": "stream",
     "text": [
      "(5000, 1, 40, 12) (5000, 7) (5000, 193)\n",
      "Train Classes distribution:  [760. 994. 546. 780. 532. 732. 656.]\n",
      "(1000, 1, 40, 12) (1000, 7) (1000, 193)\n",
      "Valid Classes distribution:  [150. 188. 136. 141.  98. 157. 130.]\n",
      "(1377, 1, 40, 12) (1377, 7) (1377, 193)\n",
      "Test Classes distribution:  [219. 268. 124. 146. 143. 234. 243.]\n"
     ]
    }
   ],
   "source": [
    "Features_imu1,Labels1,Features_sound1 = get_train_data()\n",
    "print(Features_imu1.shape, Labels1.shape, Features_sound1.shape)\n",
    "print('Train Classes distribution: ',np.sum(Labels1, axis =0))\n",
    "\n",
    "Features_imu2,Labels2,Features_sound2 = get_valid_data()\n",
    "print(Features_imu2.shape, Labels2.shape, Features_sound2.shape)\n",
    "print('Valid Classes distribution: ',np.sum(Labels2, axis =0))\n",
    "\n",
    "Features_imu3,Labels3,Features_sound3 = get_test_data()\n",
    "print(Features_imu3.shape, Labels3.shape, Features_sound3.shape)\n",
    "print('Test Classes distribution: ',np.sum(Labels3, axis =0))"
   ]
  },
  {
   "cell_type": "code",
   "execution_count": null,
   "metadata": {},
   "outputs": [],
   "source": []
  },
  {
   "cell_type": "code",
   "execution_count": 5,
   "metadata": {},
   "outputs": [],
   "source": [
    "def get_train_data2(path,file):\n",
    "    Train_data=np.load(path+file)\n",
    "    Features_imu=Train_data['arr_0']\n",
    "    Labels=Train_data['arr_1']\n",
    "    Features_sound=Train_data['arr_2']\n",
    "    return Features_imu,Labels,Features_sound\n"
   ]
  },
  {
   "cell_type": "code",
   "execution_count": 6,
   "metadata": {},
   "outputs": [
    {
     "name": "stdout",
     "output_type": "stream",
     "text": [
      "(4999, 1, 40, 12) (4999, 7) (4999, 193)\n",
      "Train Classes distribution:  [760. 994. 546. 780. 532. 732. 655.]\n"
     ]
    }
   ],
   "source": [
    "Features_imu_1,Labels_1,Features_sound_1 = get_train_data2(path,'train_data_1_shift.npz')\n",
    "print(Features_imu_1.shape, Labels_1.shape, Features_sound_1.shape)\n",
    "print('Train Classes distribution: ',np.sum(Labels_1, axis =0))"
   ]
  },
  {
   "cell_type": "code",
   "execution_count": 7,
   "metadata": {},
   "outputs": [
    {
     "name": "stdout",
     "output_type": "stream",
     "text": [
      "(4999, 1, 40, 12) (4999, 7) (4999, 193)\n",
      "Train Classes distribution:  [760. 994. 546. 780. 532. 732. 655.]\n"
     ]
    }
   ],
   "source": [
    "Features_imu_2,Labels_2,Features_sound_2 = get_train_data2(path,'train_data_2_shift.npz')\n",
    "print(Features_imu_2.shape, Labels_2.shape, Features_sound_2.shape)\n",
    "print('Train Classes distribution: ',np.sum(Labels_2, axis =0))"
   ]
  },
  {
   "cell_type": "code",
   "execution_count": 8,
   "metadata": {},
   "outputs": [
    {
     "name": "stdout",
     "output_type": "stream",
     "text": [
      "(4999, 1, 40, 12) (4999, 7) (4999, 193)\n",
      "Train Classes distribution:  [760. 994. 546. 780. 532. 732. 655.]\n"
     ]
    }
   ],
   "source": [
    "Features_imu_10,Labels_10,Features_sound_10 = get_train_data2(path,'train_data_10_shift.npz')\n",
    "print(Features_imu_10.shape, Labels_10.shape, Features_sound_10.shape)\n",
    "print('Train Classes distribution: ',np.sum(Labels_10, axis =0))"
   ]
  },
  {
   "cell_type": "code",
   "execution_count": 9,
   "metadata": {},
   "outputs": [
    {
     "name": "stdout",
     "output_type": "stream",
     "text": [
      "(4999, 1, 40, 12) (4999, 7) (4999, 193)\n",
      "Train Classes distribution:  [760. 994. 546. 780. 532. 732. 655.]\n"
     ]
    }
   ],
   "source": [
    "Features_imu_20,Labels_20,Features_sound_20 = get_train_data2(path,'train_data_20_shift.npz')\n",
    "print(Features_imu_20.shape, Labels_20.shape, Features_sound_20.shape)\n",
    "print('Train Classes distribution: ',np.sum(Labels_20, axis =0))"
   ]
  },
  {
   "cell_type": "markdown",
   "metadata": {},
   "source": [
    "# Make augmented Training Data"
   ]
  },
  {
   "cell_type": "code",
   "execution_count": 10,
   "metadata": {},
   "outputs": [
    {
     "data": {
      "text/plain": [
       "(24996, 1, 40, 12)"
      ]
     },
     "execution_count": 10,
     "metadata": {},
     "output_type": "execute_result"
    }
   ],
   "source": [
    "Features_imu = np.concatenate((Features_imu1,Features_imu_1,Features_imu_2,Features_imu_10,Features_imu_20),axis=0)\n",
    "Features_imu.shape"
   ]
  },
  {
   "cell_type": "code",
   "execution_count": 11,
   "metadata": {},
   "outputs": [
    {
     "data": {
      "text/plain": [
       "(24996, 7)"
      ]
     },
     "execution_count": 11,
     "metadata": {},
     "output_type": "execute_result"
    }
   ],
   "source": [
    "Labels = np.concatenate((Labels1,Labels_1,Labels_2,Labels_10,Labels_20),axis=0)\n",
    "Labels.shape"
   ]
  },
  {
   "cell_type": "code",
   "execution_count": 12,
   "metadata": {},
   "outputs": [
    {
     "data": {
      "text/plain": [
       "(24996, 193)"
      ]
     },
     "execution_count": 12,
     "metadata": {},
     "output_type": "execute_result"
    }
   ],
   "source": [
    "Features_sound = np.concatenate((Features_sound1,Features_sound_1,Features_sound_2,Features_sound_10,Features_sound_20),axis=0)\n",
    "Features_sound.shape"
   ]
  },
  {
   "cell_type": "code",
   "execution_count": 13,
   "metadata": {},
   "outputs": [],
   "source": [
    "model_path = 'data/IMU_Audio_Fusion_1000ms'"
   ]
  },
  {
   "cell_type": "markdown",
   "metadata": {},
   "source": [
    "# Combined Model: Audio + IMU"
   ]
  },
  {
   "cell_type": "code",
   "execution_count": 14,
   "metadata": {},
   "outputs": [],
   "source": [
    "rand_seed = 2\n",
    "\n",
    "from numpy.random import seed\n",
    "seed(rand_seed)\n",
    "from tensorflow import set_random_seed\n",
    "set_random_seed(rand_seed)\n",
    "\n",
    "input_audio = keras.layers.Input(shape=(193,))\n",
    "A1 = keras.layers.Dense(256, activation='relu')(input_audio)\n",
    "A2 = keras.layers.Dense(256, activation='relu')(A1)\n",
    "D1 = keras.layers.Dropout(0.3)(A2)\n",
    "A5 = keras.layers.Dense(128, activation='relu')(D1)\n",
    "\n",
    "\n",
    "\n",
    "num_feat_map=32\n",
    "_, dim, win_len, _, = Features_imu.shape\n",
    "input_imu = keras.layers.Input(shape=(dim, win_len, 12))\n",
    "\n",
    "I1 = keras.layers.Conv2D(num_feat_map, kernel_size=(1, 5),\n",
    "                 activation='relu',\n",
    "                 padding='same')(input_imu)\n",
    "I2=keras.layers.MaxPooling2D(pool_size=(1, 2))(I1)\n",
    "\n",
    "I3 = keras.layers.Conv2D(num_feat_map, kernel_size=(1, 5),\n",
    "                 activation='relu',\n",
    "                 padding='same')(I2)\n",
    "I4=keras.layers.MaxPooling2D(pool_size=(1, 2))(I3)\n",
    "I5=keras.layers.Flatten()(I4)\n",
    "\n",
    "I6= keras.layers.Dense(256, activation='relu')(I5)\n",
    "D2 = keras.layers.Dropout(0.3)(I6)\n",
    "\n",
    "I7= keras.layers.Dense(128, activation='relu')(D2)\n",
    "\n",
    "\n",
    "# equivalent to added = keras.layers.add([x1, x2])\n",
    "C1 =keras.layers.concatenate([A5, I7], axis=-1)\n",
    "\n",
    "\n",
    "C3= keras.layers.Dense(64, activation='relu')(C1)\n",
    "\n",
    "out = keras.layers.Dense(7, activation='softmax')(C3)\n",
    "\n",
    "model = keras.models.Model(inputs=[input_audio, input_imu], outputs=out)\n",
    "#model = keras.models.Model(inputs=input_audio, outputs=out)\n"
   ]
  },
  {
   "cell_type": "code",
   "execution_count": 15,
   "metadata": {},
   "outputs": [],
   "source": [
    "#model.summary()"
   ]
  },
  {
   "cell_type": "code",
   "execution_count": 16,
   "metadata": {},
   "outputs": [],
   "source": [
    "\n",
    "\n",
    "\n",
    "from keras.callbacks import ReduceLROnPlateau\n",
    "from keras.callbacks import Callback\n",
    "from keras.callbacks import ModelCheckpoint\n",
    "\n",
    "checkpointer = ModelCheckpoint(filepath=model_path, verbose=1,monitor='val_acc' ,save_best_only=True, save_weights_only=False)"
   ]
  },
  {
   "cell_type": "code",
   "execution_count": 17,
   "metadata": {
    "scrolled": true
   },
   "outputs": [
    {
     "name": "stdout",
     "output_type": "stream",
     "text": [
      "Train on 24996 samples, validate on 1000 samples\n",
      "Epoch 1/100\n",
      "24996/24996 [==============================] - 40s 2ms/step - loss: 3.4956 - acc: 0.6727 - val_loss: 0.2626 - val_acc: 0.9260\n",
      "\n",
      "Epoch 00001: val_acc improved from -inf to 0.92600, saving model to data/IMU_Audio_Fusion_1000ms\n",
      "Epoch 2/100\n",
      "24996/24996 [==============================] - 36s 1ms/step - loss: 0.1964 - acc: 0.9322 - val_loss: 0.1321 - val_acc: 0.9640\n",
      "\n",
      "Epoch 00002: val_acc improved from 0.92600 to 0.96400, saving model to data/IMU_Audio_Fusion_1000ms\n",
      "Epoch 3/100\n",
      "24996/24996 [==============================] - 36s 1ms/step - loss: 0.1112 - acc: 0.9582 - val_loss: 0.0998 - val_acc: 0.9710\n",
      "\n",
      "Epoch 00003: val_acc improved from 0.96400 to 0.97100, saving model to data/IMU_Audio_Fusion_1000ms\n",
      "Epoch 4/100\n",
      "24996/24996 [==============================] - 25s 1ms/step - loss: 0.0720 - acc: 0.9728 - val_loss: 0.1093 - val_acc: 0.9680\n",
      "\n",
      "Epoch 00004: val_acc did not improve from 0.97100\n",
      "Epoch 5/100\n",
      "24996/24996 [==============================] - 21s 836us/step - loss: 0.0649 - acc: 0.9769 - val_loss: 0.1027 - val_acc: 0.9740\n",
      "\n",
      "Epoch 00005: val_acc improved from 0.97100 to 0.97400, saving model to data/IMU_Audio_Fusion_1000ms\n",
      "Epoch 6/100\n",
      "24996/24996 [==============================] - 22s 898us/step - loss: 0.0461 - acc: 0.9841 - val_loss: 0.0692 - val_acc: 0.9770\n",
      "\n",
      "Epoch 00006: val_acc improved from 0.97400 to 0.97700, saving model to data/IMU_Audio_Fusion_1000ms\n",
      "Epoch 7/100\n",
      "24996/24996 [==============================] - 21s 857us/step - loss: 0.0405 - acc: 0.9848 - val_loss: 0.1022 - val_acc: 0.9700\n",
      "\n",
      "Epoch 00007: val_acc did not improve from 0.97700\n",
      "Epoch 8/100\n",
      "24996/24996 [==============================] - 22s 874us/step - loss: 0.0411 - acc: 0.9848 - val_loss: 0.1346 - val_acc: 0.9630\n",
      "\n",
      "Epoch 00008: val_acc did not improve from 0.97700\n",
      "Epoch 9/100\n",
      "24996/24996 [==============================] - 21s 847us/step - loss: 0.0428 - acc: 0.9848 - val_loss: 0.0938 - val_acc: 0.9740\n",
      "\n",
      "Epoch 00009: val_acc did not improve from 0.97700\n",
      "Epoch 10/100\n",
      "24996/24996 [==============================] - 21s 831us/step - loss: 0.0295 - acc: 0.9893 - val_loss: 0.0740 - val_acc: 0.9800\n",
      "\n",
      "Epoch 00010: val_acc improved from 0.97700 to 0.98000, saving model to data/IMU_Audio_Fusion_1000ms\n",
      "Epoch 11/100\n",
      "24996/24996 [==============================] - 20s 814us/step - loss: 0.0267 - acc: 0.9906 - val_loss: 0.0727 - val_acc: 0.9840\n",
      "\n",
      "Epoch 00011: val_acc improved from 0.98000 to 0.98400, saving model to data/IMU_Audio_Fusion_1000ms\n",
      "Epoch 12/100\n",
      "24996/24996 [==============================] - 11s 449us/step - loss: 0.0194 - acc: 0.9933 - val_loss: 0.1129 - val_acc: 0.9800\n",
      "\n",
      "Epoch 00012: val_acc did not improve from 0.98400\n",
      "Epoch 13/100\n",
      "24996/24996 [==============================] - 12s 467us/step - loss: 0.0180 - acc: 0.9937 - val_loss: 0.1512 - val_acc: 0.9690\n",
      "\n",
      "Epoch 00013: val_acc did not improve from 0.98400\n",
      "Epoch 14/100\n",
      "24996/24996 [==============================] - 12s 463us/step - loss: 0.0407 - acc: 0.9874 - val_loss: 0.1212 - val_acc: 0.9720\n",
      "\n",
      "Epoch 00014: val_acc did not improve from 0.98400\n",
      "Epoch 15/100\n",
      "24996/24996 [==============================] - 12s 484us/step - loss: 0.0241 - acc: 0.9920 - val_loss: 0.0845 - val_acc: 0.9810\n",
      "\n",
      "Epoch 00015: val_acc did not improve from 0.98400\n",
      "Epoch 16/100\n",
      "24996/24996 [==============================] - 12s 475us/step - loss: 0.0199 - acc: 0.9937 - val_loss: 0.0841 - val_acc: 0.9780\n",
      "\n",
      "Epoch 00016: val_acc did not improve from 0.98400\n",
      "Epoch 17/100\n",
      "24996/24996 [==============================] - 12s 460us/step - loss: 0.0252 - acc: 0.9912 - val_loss: 0.0983 - val_acc: 0.9850\n",
      "\n",
      "Epoch 00017: val_acc improved from 0.98400 to 0.98500, saving model to data/IMU_Audio_Fusion_1000ms\n",
      "Epoch 18/100\n",
      "24996/24996 [==============================] - 11s 450us/step - loss: 0.0227 - acc: 0.9936 - val_loss: 0.1850 - val_acc: 0.9670\n",
      "\n",
      "Epoch 00018: val_acc did not improve from 0.98500\n",
      "Epoch 19/100\n",
      "24996/24996 [==============================] - 12s 462us/step - loss: 0.0420 - acc: 0.9885 - val_loss: 0.1569 - val_acc: 0.9740\n",
      "\n",
      "Epoch 00019: val_acc did not improve from 0.98500\n",
      "Epoch 20/100\n",
      "24996/24996 [==============================] - 12s 464us/step - loss: 0.0230 - acc: 0.9936 - val_loss: 0.1098 - val_acc: 0.9800\n",
      "\n",
      "Epoch 00020: val_acc did not improve from 0.98500\n",
      "Epoch 21/100\n",
      "24996/24996 [==============================] - 11s 457us/step - loss: 0.0243 - acc: 0.9936 - val_loss: 0.1011 - val_acc: 0.9790\n",
      "\n",
      "Epoch 00021: val_acc did not improve from 0.98500\n",
      "Epoch 22/100\n",
      "24996/24996 [==============================] - 11s 457us/step - loss: 0.0349 - acc: 0.9910 - val_loss: 0.0852 - val_acc: 0.9820\n",
      "\n",
      "Epoch 00022: val_acc did not improve from 0.98500\n",
      "Epoch 23/100\n",
      "24996/24996 [==============================] - 11s 458us/step - loss: 0.0161 - acc: 0.9953 - val_loss: 0.0819 - val_acc: 0.9870\n",
      "\n",
      "Epoch 00023: val_acc improved from 0.98500 to 0.98700, saving model to data/IMU_Audio_Fusion_1000ms\n",
      "Epoch 24/100\n",
      "24996/24996 [==============================] - 11s 442us/step - loss: 0.0047 - acc: 0.9986 - val_loss: 0.0682 - val_acc: 0.9910\n",
      "\n",
      "Epoch 00024: val_acc improved from 0.98700 to 0.99100, saving model to data/IMU_Audio_Fusion_1000ms\n",
      "Epoch 25/100\n",
      "24996/24996 [==============================] - 11s 446us/step - loss: 0.0193 - acc: 0.9954 - val_loss: 0.1361 - val_acc: 0.9780\n",
      "\n",
      "Epoch 00025: val_acc did not improve from 0.99100\n",
      "Epoch 26/100\n",
      "24996/24996 [==============================] - 11s 448us/step - loss: 0.0394 - acc: 0.9902 - val_loss: 0.0504 - val_acc: 0.9920\n",
      "\n",
      "Epoch 00026: val_acc improved from 0.99100 to 0.99200, saving model to data/IMU_Audio_Fusion_1000ms\n",
      "Epoch 27/100\n",
      "24996/24996 [==============================] - 11s 457us/step - loss: 0.0221 - acc: 0.9943 - val_loss: 0.1072 - val_acc: 0.9810\n",
      "\n",
      "Epoch 00027: val_acc did not improve from 0.99200\n",
      "Epoch 28/100\n",
      "24996/24996 [==============================] - 11s 458us/step - loss: 0.0153 - acc: 0.9956 - val_loss: 0.0936 - val_acc: 0.9810\n",
      "\n",
      "Epoch 00028: val_acc did not improve from 0.99200\n",
      "Epoch 29/100\n",
      "24996/24996 [==============================] - 11s 454us/step - loss: 0.0074 - acc: 0.9976 - val_loss: 0.0727 - val_acc: 0.9820\n",
      "\n",
      "Epoch 00029: val_acc did not improve from 0.99200\n",
      "Epoch 30/100\n",
      "24996/24996 [==============================] - 11s 445us/step - loss: 0.0049 - acc: 0.9987 - val_loss: 0.0844 - val_acc: 0.9810\n",
      "\n",
      "Epoch 00030: val_acc did not improve from 0.99200\n",
      "Epoch 31/100\n",
      "24996/24996 [==============================] - 12s 488us/step - loss: 0.0179 - acc: 0.9954 - val_loss: 0.1220 - val_acc: 0.9760\n",
      "\n",
      "Epoch 00031: val_acc did not improve from 0.99200\n",
      "Epoch 32/100\n",
      "24996/24996 [==============================] - 13s 514us/step - loss: 0.0167 - acc: 0.9955 - val_loss: 0.0839 - val_acc: 0.9860\n",
      "\n",
      "Epoch 00032: val_acc did not improve from 0.99200\n",
      "Epoch 33/100\n",
      "24996/24996 [==============================] - 13s 506us/step - loss: 0.0127 - acc: 0.9967 - val_loss: 0.0800 - val_acc: 0.9840\n",
      "\n",
      "Epoch 00033: val_acc did not improve from 0.99200\n",
      "Epoch 34/100\n",
      "24996/24996 [==============================] - 12s 477us/step - loss: 0.0084 - acc: 0.9974 - val_loss: 0.0536 - val_acc: 0.9880\n",
      "\n",
      "Epoch 00034: val_acc did not improve from 0.99200\n",
      "Epoch 35/100\n",
      "24996/24996 [==============================] - 12s 477us/step - loss: 0.0423 - acc: 0.9913 - val_loss: 0.1814 - val_acc: 0.9690\n",
      "\n",
      "Epoch 00035: val_acc did not improve from 0.99200\n",
      "Epoch 36/100\n",
      "24996/24996 [==============================] - 12s 474us/step - loss: 0.0258 - acc: 0.9938 - val_loss: 0.1211 - val_acc: 0.9760\n",
      "\n",
      "Epoch 00036: val_acc did not improve from 0.99200\n",
      "Epoch 37/100\n",
      "24996/24996 [==============================] - 12s 483us/step - loss: 0.0218 - acc: 0.9941 - val_loss: 0.0741 - val_acc: 0.9890\n",
      "\n",
      "Epoch 00037: val_acc did not improve from 0.99200\n",
      "Epoch 38/100\n",
      "24996/24996 [==============================] - 12s 481us/step - loss: 0.0067 - acc: 0.9985 - val_loss: 0.1404 - val_acc: 0.9800\n",
      "\n",
      "Epoch 00038: val_acc did not improve from 0.99200\n",
      "Epoch 39/100\n",
      "24996/24996 [==============================] - 12s 472us/step - loss: 0.0167 - acc: 0.9958 - val_loss: 0.0692 - val_acc: 0.9850\n",
      "\n",
      "Epoch 00039: val_acc did not improve from 0.99200\n",
      "Epoch 40/100\n",
      "24996/24996 [==============================] - 13s 502us/step - loss: 0.0247 - acc: 0.9943 - val_loss: 0.2019 - val_acc: 0.9680\n"
     ]
    },
    {
     "name": "stdout",
     "output_type": "stream",
     "text": [
      "\n",
      "Epoch 00040: val_acc did not improve from 0.99200\n",
      "Epoch 41/100\n",
      "24996/24996 [==============================] - 11s 440us/step - loss: 0.0201 - acc: 0.9952 - val_loss: 0.1135 - val_acc: 0.9840\n",
      "\n",
      "Epoch 00041: val_acc did not improve from 0.99200\n",
      "Epoch 42/100\n",
      "24996/24996 [==============================] - 11s 437us/step - loss: 0.0090 - acc: 0.9971 - val_loss: 0.0773 - val_acc: 0.9890\n",
      "\n",
      "Epoch 00042: val_acc did not improve from 0.99200\n",
      "Epoch 43/100\n",
      "24996/24996 [==============================] - 11s 450us/step - loss: 0.0072 - acc: 0.9983 - val_loss: 0.1133 - val_acc: 0.9820\n",
      "\n",
      "Epoch 00043: val_acc did not improve from 0.99200\n",
      "Epoch 44/100\n",
      "24996/24996 [==============================] - 12s 476us/step - loss: 0.0177 - acc: 0.9963 - val_loss: 0.0959 - val_acc: 0.9800\n",
      "\n",
      "Epoch 00044: val_acc did not improve from 0.99200\n",
      "Epoch 45/100\n",
      "24996/24996 [==============================] - 12s 465us/step - loss: 0.0037 - acc: 0.9989 - val_loss: 0.0819 - val_acc: 0.9880\n",
      "\n",
      "Epoch 00045: val_acc did not improve from 0.99200\n",
      "Epoch 46/100\n",
      "24996/24996 [==============================] - 12s 482us/step - loss: 0.0171 - acc: 0.9959 - val_loss: 0.0896 - val_acc: 0.9840\n",
      "\n",
      "Epoch 00046: val_acc did not improve from 0.99200\n",
      "Epoch 47/100\n",
      "24996/24996 [==============================] - 12s 468us/step - loss: 0.0155 - acc: 0.9970 - val_loss: 0.1244 - val_acc: 0.9740\n",
      "\n",
      "Epoch 00047: val_acc did not improve from 0.99200\n",
      "Epoch 48/100\n",
      "24996/24996 [==============================] - 12s 461us/step - loss: 0.0091 - acc: 0.9978 - val_loss: 0.0573 - val_acc: 0.9890\n",
      "\n",
      "Epoch 00048: val_acc did not improve from 0.99200\n",
      "Epoch 49/100\n",
      "24996/24996 [==============================] - 12s 466us/step - loss: 0.0197 - acc: 0.9962 - val_loss: 0.1050 - val_acc: 0.9820\n",
      "\n",
      "Epoch 00049: val_acc did not improve from 0.99200\n",
      "Epoch 50/100\n",
      "24996/24996 [==============================] - 15s 582us/step - loss: 0.0284 - acc: 0.9941 - val_loss: 0.0906 - val_acc: 0.9850\n",
      "\n",
      "Epoch 00050: val_acc did not improve from 0.99200\n",
      "Epoch 51/100\n",
      "24996/24996 [==============================] - 15s 590us/step - loss: 0.0215 - acc: 0.9961 - val_loss: 0.0732 - val_acc: 0.9870\n",
      "\n",
      "Epoch 00051: val_acc did not improve from 0.99200\n",
      "Epoch 52/100\n",
      "24996/24996 [==============================] - 15s 615us/step - loss: 0.0093 - acc: 0.9978 - val_loss: 0.0880 - val_acc: 0.9860\n",
      "\n",
      "Epoch 00052: val_acc did not improve from 0.99200\n",
      "Epoch 53/100\n",
      "24996/24996 [==============================] - 12s 478us/step - loss: 0.0210 - acc: 0.9962 - val_loss: 0.0894 - val_acc: 0.9870\n",
      "\n",
      "Epoch 00053: val_acc did not improve from 0.99200\n",
      "Epoch 54/100\n",
      "24996/24996 [==============================] - 12s 487us/step - loss: 0.0159 - acc: 0.9965 - val_loss: 0.0710 - val_acc: 0.9850\n",
      "\n",
      "Epoch 00054: val_acc did not improve from 0.99200\n",
      "Epoch 55/100\n",
      "24996/24996 [==============================] - 12s 469us/step - loss: 0.0061 - acc: 0.9983 - val_loss: 0.1023 - val_acc: 0.9850\n",
      "\n",
      "Epoch 00055: val_acc did not improve from 0.99200\n",
      "Epoch 56/100\n",
      "24996/24996 [==============================] - 12s 468us/step - loss: 0.0058 - acc: 0.9988 - val_loss: 0.1614 - val_acc: 0.9750\n",
      "\n",
      "Epoch 00056: val_acc did not improve from 0.99200\n",
      "Epoch 57/100\n",
      "24996/24996 [==============================] - 12s 491us/step - loss: 0.0205 - acc: 0.9960 - val_loss: 0.1031 - val_acc: 0.9840\n",
      "\n",
      "Epoch 00057: val_acc did not improve from 0.99200\n",
      "Epoch 58/100\n",
      "24996/24996 [==============================] - 14s 545us/step - loss: 0.0067 - acc: 0.9983 - val_loss: 0.1066 - val_acc: 0.9880\n",
      "\n",
      "Epoch 00058: val_acc did not improve from 0.99200\n",
      "Epoch 59/100\n",
      "24996/24996 [==============================] - 11s 452us/step - loss: 0.0035 - acc: 0.9989 - val_loss: 0.1645 - val_acc: 0.9820\n",
      "\n",
      "Epoch 00059: val_acc did not improve from 0.99200\n",
      "Epoch 60/100\n",
      "24996/24996 [==============================] - 12s 466us/step - loss: 0.0115 - acc: 0.9975 - val_loss: 0.1155 - val_acc: 0.9820\n",
      "\n",
      "Epoch 00060: val_acc did not improve from 0.99200\n",
      "Epoch 61/100\n",
      "24996/24996 [==============================] - 15s 607us/step - loss: 0.0211 - acc: 0.9957 - val_loss: 0.1104 - val_acc: 0.9860\n",
      "\n",
      "Epoch 00061: val_acc did not improve from 0.99200\n",
      "Epoch 62/100\n",
      "24996/24996 [==============================] - 22s 864us/step - loss: 0.0148 - acc: 0.9966 - val_loss: 0.0932 - val_acc: 0.9860\n",
      "\n",
      "Epoch 00062: val_acc did not improve from 0.99200\n",
      "Epoch 63/100\n",
      "24996/24996 [==============================] - 21s 859us/step - loss: 0.0189 - acc: 0.9955 - val_loss: 0.0733 - val_acc: 0.9870\n",
      "\n",
      "Epoch 00063: val_acc did not improve from 0.99200\n",
      "Epoch 64/100\n",
      "24996/24996 [==============================] - 21s 846us/step - loss: 0.0053 - acc: 0.9988 - val_loss: 0.0644 - val_acc: 0.9910\n",
      "\n",
      "Epoch 00064: val_acc did not improve from 0.99200\n",
      "Epoch 65/100\n",
      "24996/24996 [==============================] - 21s 860us/step - loss: 0.0045 - acc: 0.9988 - val_loss: 0.0905 - val_acc: 0.9900\n",
      "\n",
      "Epoch 00065: val_acc did not improve from 0.99200\n",
      "Epoch 66/100\n",
      "24996/24996 [==============================] - 22s 873us/step - loss: 0.0028 - acc: 0.9994 - val_loss: 0.0905 - val_acc: 0.9910\n",
      "\n",
      "Epoch 00066: val_acc did not improve from 0.99200\n",
      "Epoch 67/100\n",
      "24996/24996 [==============================] - 21s 838us/step - loss: 0.0056 - acc: 0.9992 - val_loss: 0.1651 - val_acc: 0.9810\n",
      "\n",
      "Epoch 00067: val_acc did not improve from 0.99200\n",
      "Epoch 68/100\n",
      "24996/24996 [==============================] - 19s 761us/step - loss: 0.0160 - acc: 0.9972 - val_loss: 0.0872 - val_acc: 0.9870\n",
      "\n",
      "Epoch 00068: val_acc did not improve from 0.99200\n",
      "Epoch 69/100\n",
      "24996/24996 [==============================] - 22s 864us/step - loss: 0.0180 - acc: 0.9966 - val_loss: 0.2650 - val_acc: 0.9690\n",
      "\n",
      "Epoch 00069: val_acc did not improve from 0.99200\n",
      "Epoch 70/100\n",
      "24996/24996 [==============================] - 21s 859us/step - loss: 0.0448 - acc: 0.9927 - val_loss: 0.2031 - val_acc: 0.9720\n",
      "\n",
      "Epoch 00070: val_acc did not improve from 0.99200\n",
      "Epoch 71/100\n",
      "24996/24996 [==============================] - 21s 824us/step - loss: 0.0241 - acc: 0.9959 - val_loss: 0.1029 - val_acc: 0.9850\n",
      "\n",
      "Epoch 00071: val_acc did not improve from 0.99200\n",
      "Epoch 72/100\n",
      "24996/24996 [==============================] - 21s 823us/step - loss: 0.0179 - acc: 0.9979 - val_loss: 0.1116 - val_acc: 0.9840\n",
      "\n",
      "Epoch 00072: val_acc did not improve from 0.99200\n",
      "Epoch 73/100\n",
      "24996/24996 [==============================] - 21s 850us/step - loss: 0.0057 - acc: 0.9987 - val_loss: 0.1872 - val_acc: 0.9780\n",
      "\n",
      "Epoch 00073: val_acc did not improve from 0.99200\n",
      "Epoch 74/100\n",
      "24996/24996 [==============================] - 21s 821us/step - loss: 0.0213 - acc: 0.9964 - val_loss: 0.1311 - val_acc: 0.9780\n",
      "\n",
      "Epoch 00074: val_acc did not improve from 0.99200\n",
      "Epoch 75/100\n",
      "24996/24996 [==============================] - 21s 847us/step - loss: 0.0166 - acc: 0.9977 - val_loss: 0.1464 - val_acc: 0.9780\n",
      "\n",
      "Epoch 00075: val_acc did not improve from 0.99200\n",
      "Epoch 76/100\n",
      "24996/24996 [==============================] - 21s 852us/step - loss: 0.0377 - acc: 0.9949 - val_loss: 0.1209 - val_acc: 0.9830\n",
      "\n",
      "Epoch 00076: val_acc did not improve from 0.99200\n",
      "Epoch 77/100\n",
      "24996/24996 [==============================] - 21s 841us/step - loss: 0.0052 - acc: 0.9988 - val_loss: 0.1139 - val_acc: 0.9820\n",
      "\n",
      "Epoch 00077: val_acc did not improve from 0.99200\n",
      "Epoch 78/100\n",
      "24996/24996 [==============================] - 21s 822us/step - loss: 0.0020 - acc: 0.9996 - val_loss: 0.0976 - val_acc: 0.9860\n",
      "\n",
      "Epoch 00078: val_acc did not improve from 0.99200\n",
      "Epoch 79/100\n",
      "24996/24996 [==============================] - 21s 852us/step - loss: 0.0133 - acc: 0.9977 - val_loss: 0.0839 - val_acc: 0.9890\n",
      "\n",
      "Epoch 00079: val_acc did not improve from 0.99200\n",
      "Epoch 80/100\n",
      "24996/24996 [==============================] - 21s 826us/step - loss: 0.0140 - acc: 0.9978 - val_loss: 0.1584 - val_acc: 0.9820\n",
      "\n",
      "Epoch 00080: val_acc did not improve from 0.99200\n",
      "Epoch 81/100\n",
      "24996/24996 [==============================] - 20s 807us/step - loss: 0.0158 - acc: 0.9974 - val_loss: 0.1033 - val_acc: 0.9870\n",
      "\n",
      "Epoch 00081: val_acc did not improve from 0.99200\n",
      "Epoch 82/100\n",
      "24996/24996 [==============================] - 21s 834us/step - loss: 0.0299 - acc: 0.9944 - val_loss: 0.1138 - val_acc: 0.9870\n",
      "\n",
      "Epoch 00082: val_acc did not improve from 0.99200\n",
      "Epoch 83/100\n"
     ]
    },
    {
     "name": "stdout",
     "output_type": "stream",
     "text": [
      "24996/24996 [==============================] - 22s 866us/step - loss: 0.0191 - acc: 0.9968 - val_loss: 0.1168 - val_acc: 0.9850\n",
      "\n",
      "Epoch 00083: val_acc did not improve from 0.99200\n",
      "Epoch 84/100\n",
      "24996/24996 [==============================] - 21s 852us/step - loss: 0.0170 - acc: 0.9972 - val_loss: 0.1768 - val_acc: 0.9820\n",
      "\n",
      "Epoch 00084: val_acc did not improve from 0.99200\n",
      "Epoch 85/100\n",
      "24996/24996 [==============================] - 21s 836us/step - loss: 0.0325 - acc: 0.9959 - val_loss: 0.1659 - val_acc: 0.9780\n",
      "\n",
      "Epoch 00085: val_acc did not improve from 0.99200\n",
      "Epoch 86/100\n",
      "24996/24996 [==============================] - 21s 831us/step - loss: 0.0087 - acc: 0.9984 - val_loss: 0.1610 - val_acc: 0.9820\n",
      "\n",
      "Epoch 00086: val_acc did not improve from 0.99200\n",
      "Epoch 87/100\n",
      "24996/24996 [==============================] - 21s 837us/step - loss: 0.0131 - acc: 0.9976 - val_loss: 0.2159 - val_acc: 0.9750\n",
      "\n",
      "Epoch 00087: val_acc did not improve from 0.99200\n",
      "Epoch 88/100\n",
      "24996/24996 [==============================] - 21s 829us/step - loss: 0.0085 - acc: 0.9986 - val_loss: 0.1140 - val_acc: 0.9820\n",
      "\n",
      "Epoch 00088: val_acc did not improve from 0.99200\n",
      "Epoch 89/100\n",
      "24996/24996 [==============================] - 21s 846us/step - loss: 0.0194 - acc: 0.9978 - val_loss: 0.1584 - val_acc: 0.9800\n",
      "\n",
      "Epoch 00089: val_acc did not improve from 0.99200\n",
      "Epoch 90/100\n",
      "24996/24996 [==============================] - 21s 830us/step - loss: 0.0029 - acc: 0.9993 - val_loss: 0.1186 - val_acc: 0.9850\n",
      "\n",
      "Epoch 00090: val_acc did not improve from 0.99200\n",
      "Epoch 91/100\n",
      "24996/24996 [==============================] - 21s 848us/step - loss: 0.0335 - acc: 0.9945 - val_loss: 0.1598 - val_acc: 0.9800\n",
      "\n",
      "Epoch 00091: val_acc did not improve from 0.99200\n",
      "Epoch 92/100\n",
      "24996/24996 [==============================] - 21s 843us/step - loss: 0.0284 - acc: 0.9962 - val_loss: 0.1286 - val_acc: 0.9850\n",
      "\n",
      "Epoch 00092: val_acc did not improve from 0.99200\n",
      "Epoch 93/100\n",
      "24996/24996 [==============================] - 21s 854us/step - loss: 0.0056 - acc: 0.9987 - val_loss: 0.1508 - val_acc: 0.9820\n",
      "\n",
      "Epoch 00093: val_acc did not improve from 0.99200\n",
      "Epoch 94/100\n",
      "24996/24996 [==============================] - 22s 867us/step - loss: 0.0353 - acc: 0.9958 - val_loss: 0.1024 - val_acc: 0.9880\n",
      "\n",
      "Epoch 00094: val_acc did not improve from 0.99200\n",
      "Epoch 95/100\n",
      "24996/24996 [==============================] - 21s 854us/step - loss: 0.0051 - acc: 0.9991 - val_loss: 0.0884 - val_acc: 0.9880\n",
      "\n",
      "Epoch 00095: val_acc did not improve from 0.99200\n",
      "Epoch 96/100\n",
      "24996/24996 [==============================] - 21s 858us/step - loss: 0.0333 - acc: 0.9964 - val_loss: 0.1528 - val_acc: 0.9810\n",
      "\n",
      "Epoch 00096: val_acc did not improve from 0.99200\n",
      "Epoch 97/100\n",
      "24996/24996 [==============================] - 21s 850us/step - loss: 0.0237 - acc: 0.9970 - val_loss: 0.1171 - val_acc: 0.9870\n",
      "\n",
      "Epoch 00097: val_acc did not improve from 0.99200\n",
      "Epoch 98/100\n",
      "24996/24996 [==============================] - 21s 848us/step - loss: 0.0157 - acc: 0.9971 - val_loss: 0.1108 - val_acc: 0.9880\n",
      "\n",
      "Epoch 00098: val_acc did not improve from 0.99200\n",
      "Epoch 99/100\n",
      "24996/24996 [==============================] - 21s 847us/step - loss: 0.0192 - acc: 0.9964 - val_loss: 0.0914 - val_acc: 0.9860\n",
      "\n",
      "Epoch 00099: val_acc did not improve from 0.99200\n",
      "Epoch 100/100\n",
      "24996/24996 [==============================] - 12s 487us/step - loss: 0.0055 - acc: 0.9990 - val_loss: 0.1039 - val_acc: 0.9850\n",
      "\n",
      "Epoch 00100: val_acc did not improve from 0.99200\n",
      "---Time 1699.0373075008392 seconds ---\n"
     ]
    }
   ],
   "source": [
    "batch_size = 128\n",
    "epochs = 100\n",
    "from keras import optimizers\n",
    "from keras.optimizers import Adam\n",
    "\n",
    "adam = optimizers.Adam(lr=0.001, beta_1=0.9, beta_2=0.999, epsilon=None, decay=0.0, amsgrad=False)\n",
    "model.compile(loss=keras.losses.categorical_crossentropy,\n",
    "              optimizer= adam,\n",
    "              metrics=['accuracy'])\n",
    "\n",
    "import time\n",
    "start_time = time.time()\n",
    "\n",
    "learning_hist = model.fit([Features_sound,Features_imu], Labels,\n",
    "                    verbose=1,\n",
    "                    epochs=epochs,\n",
    "                        shuffle=True,\n",
    "                    batch_size=batch_size,\n",
    "                        callbacks=[checkpointer],\n",
    "                    validation_data=([Features_sound2,Features_imu2], Labels2)\n",
    "                         \n",
    "                         )\n",
    "\n",
    "end_time = time.time()\n",
    "\n",
    "print(\"---Time %s seconds ---\" % (end_time - start_time))"
   ]
  },
  {
   "cell_type": "markdown",
   "metadata": {},
   "source": [
    "# Accuracies"
   ]
  },
  {
   "cell_type": "code",
   "execution_count": 18,
   "metadata": {},
   "outputs": [
    {
     "name": "stdout",
     "output_type": "stream",
     "text": [
      "1377/1377 [==============================] - 1s 475us/step\n"
     ]
    },
    {
     "data": {
      "text/plain": [
       "[0.17568565193563748, 0.971677559912854]"
      ]
     },
     "execution_count": 18,
     "metadata": {},
     "output_type": "execute_result"
    }
   ],
   "source": [
    "model.evaluate([Features_sound3,Features_imu3],Labels3)\n"
   ]
  },
  {
   "cell_type": "code",
   "execution_count": 19,
   "metadata": {},
   "outputs": [],
   "source": [
    "from keras.models import load_model\n",
    "\n",
    "model_fused = load_model(model_path)"
   ]
  },
  {
   "cell_type": "code",
   "execution_count": 20,
   "metadata": {},
   "outputs": [
    {
     "name": "stdout",
     "output_type": "stream",
     "text": [
      "24996/24996 [==============================] - 11s 434us/step\n"
     ]
    },
    {
     "data": {
      "text/plain": [
       "[0.006903310225479172, 0.9977596415426468]"
      ]
     },
     "execution_count": 20,
     "metadata": {},
     "output_type": "execute_result"
    }
   ],
   "source": [
    "#Train Accuracy\n",
    "model_fused.evaluate([Features_sound,Features_imu],Labels)"
   ]
  },
  {
   "cell_type": "code",
   "execution_count": 21,
   "metadata": {
    "scrolled": true
   },
   "outputs": [
    {
     "name": "stdout",
     "output_type": "stream",
     "text": [
      "1000/1000 [==============================] - 0s 414us/step\n"
     ]
    },
    {
     "data": {
      "text/plain": [
       "[0.05038352374028546, 0.992]"
      ]
     },
     "execution_count": 21,
     "metadata": {},
     "output_type": "execute_result"
    }
   ],
   "source": [
    "## Valid Accuracy\n",
    "model_fused.evaluate([Features_sound2,Features_imu2],Labels2)"
   ]
  },
  {
   "cell_type": "code",
   "execution_count": 22,
   "metadata": {},
   "outputs": [
    {
     "name": "stdout",
     "output_type": "stream",
     "text": [
      "1377/1377 [==============================] - 1s 417us/step\n"
     ]
    },
    {
     "data": {
      "text/plain": [
       "[0.10806767817294642, 0.9724037763253449]"
      ]
     },
     "execution_count": 22,
     "metadata": {},
     "output_type": "execute_result"
    }
   ],
   "source": [
    "## Test Accuracy\n",
    "model_fused.evaluate([Features_sound3,Features_imu3],Labels3)"
   ]
  },
  {
   "cell_type": "markdown",
   "metadata": {},
   "source": [
    "# Plotting"
   ]
  },
  {
   "cell_type": "code",
   "execution_count": 23,
   "metadata": {},
   "outputs": [
    {
     "name": "stdout",
     "output_type": "stream",
     "text": [
      "dict_keys(['val_loss', 'val_acc', 'loss', 'acc'])\n"
     ]
    },
    {
     "data": {
      "image/png": "[encoded data removed]",
      "text/plain": [
       "<Figure size 720x360 with 1 Axes>"
      ]
     },
     "metadata": {
      "needs_background": "light"
     },
     "output_type": "display_data"
    }
   ],
   "source": [
    "from matplotlib import pyplot as plt\n",
    "\n",
    "print(learning_hist.history.keys())\n",
    "plt.rcParams.update({'font.size': 18})\n",
    "\n",
    "plt.figure(figsize=(10,5))\n",
    "\n",
    "plt.plot(learning_hist.history['acc'])\n",
    "plt.plot(learning_hist.history['val_acc'])\n",
    "plt.title('model accuracy')\n",
    "plt.ylabel('accuracy')\n",
    "plt.xlabel('epoch')\n",
    "plt.legend(['train', 'Valid'], loc='upper right')\n",
    "plt.show()"
   ]
  },
  {
   "cell_type": "code",
   "execution_count": 24,
   "metadata": {},
   "outputs": [
    {
     "data": {
      "image/png": "[encoded data removed]",
      "text/plain": [
       "<Figure size 720x360 with 1 Axes>"
      ]
     },
     "metadata": {
      "needs_background": "light"
     },
     "output_type": "display_data"
    }
   ],
   "source": [
    "# summarize history for loss\n",
    "\n",
    "from matplotlib import pyplot as plt\n",
    "\n",
    "plt.figure(figsize=(10,5))\n",
    "plt.rcParams.update({'font.size': 18})\n",
    "\n",
    "\n",
    "plt.plot(learning_hist.history['loss'])\n",
    "plt.plot(learning_hist.history['val_loss'])\n",
    "plt.title('model loss')\n",
    "plt.ylabel('loss')\n",
    "plt.xlabel('epoch')\n",
    "plt.legend(['train', 'Valid'], loc='upper right')\n",
    "plt.show()"
   ]
  },
  {
   "cell_type": "code",
   "execution_count": null,
   "metadata": {},
   "outputs": [],
   "source": []
  }
 ],
 "metadata": {
  "kernelspec": {
   "display_name": "Python 3",
   "language": "python",
   "name": "python3"
  },
  "language_info": {
   "codemirror_mode": {
    "name": "ipython",
    "version": 3
   },
   "file_extension": ".py",
   "mimetype": "text/x-python",
   "name": "python",
   "nbconvert_exporter": "python",
   "pygments_lexer": "ipython3",
   "version": "3.6.12"
  }
 },
 "nbformat": 4,
 "nbformat_minor": 2
}
