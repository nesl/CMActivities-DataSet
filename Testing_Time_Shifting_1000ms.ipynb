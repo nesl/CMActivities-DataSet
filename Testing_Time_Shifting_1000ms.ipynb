{
 "cells": [
  {
   "cell_type": "markdown",
   "metadata": {},
   "source": [
    "# We will test the Time-shift 1000\n",
    "- We will use the vanilla model-Baseline (No augmentation)\n",
    "- We will use the 1000ms augmentation model here"
   ]
  },
  {
   "cell_type": "code",
   "execution_count": 1,
   "metadata": {},
   "outputs": [
    {
     "name": "stderr",
     "output_type": "stream",
     "text": [
      "Using TensorFlow backend.\n",
      "/home/nesl/anaconda3/envs/py36/lib/python3.6/site-packages/tensorflow/python/framework/dtypes.py:523: FutureWarning: Passing (type, 1) or '1type' as a synonym of type is deprecated; in a future version of numpy, it will be understood as (type, (1,)) / '(1,)type'.\n",
      "  _np_qint8 = np.dtype([(\"qint8\", np.int8, 1)])\n",
      "/home/nesl/anaconda3/envs/py36/lib/python3.6/site-packages/tensorflow/python/framework/dtypes.py:524: FutureWarning: Passing (type, 1) or '1type' as a synonym of type is deprecated; in a future version of numpy, it will be understood as (type, (1,)) / '(1,)type'.\n",
      "  _np_quint8 = np.dtype([(\"quint8\", np.uint8, 1)])\n",
      "/home/nesl/anaconda3/envs/py36/lib/python3.6/site-packages/tensorflow/python/framework/dtypes.py:525: FutureWarning: Passing (type, 1) or '1type' as a synonym of type is deprecated; in a future version of numpy, it will be understood as (type, (1,)) / '(1,)type'.\n",
      "  _np_qint16 = np.dtype([(\"qint16\", np.int16, 1)])\n",
      "/home/nesl/anaconda3/envs/py36/lib/python3.6/site-packages/tensorflow/python/framework/dtypes.py:526: FutureWarning: Passing (type, 1) or '1type' as a synonym of type is deprecated; in a future version of numpy, it will be understood as (type, (1,)) / '(1,)type'.\n",
      "  _np_quint16 = np.dtype([(\"quint16\", np.uint16, 1)])\n",
      "/home/nesl/anaconda3/envs/py36/lib/python3.6/site-packages/tensorflow/python/framework/dtypes.py:527: FutureWarning: Passing (type, 1) or '1type' as a synonym of type is deprecated; in a future version of numpy, it will be understood as (type, (1,)) / '(1,)type'.\n",
      "  _np_qint32 = np.dtype([(\"qint32\", np.int32, 1)])\n",
      "/home/nesl/anaconda3/envs/py36/lib/python3.6/site-packages/tensorflow/python/framework/dtypes.py:532: FutureWarning: Passing (type, 1) or '1type' as a synonym of type is deprecated; in a future version of numpy, it will be understood as (type, (1,)) / '(1,)type'.\n",
      "  np_resource = np.dtype([(\"resource\", np.ubyte, 1)])\n"
     ]
    }
   ],
   "source": [
    "import numpy as np\n",
    "import scipy.io\n",
    "\n",
    "from keras import optimizers\n",
    "from keras.optimizers import SGD\n",
    "from keras.optimizers import Adam\n",
    "from keras.metrics import categorical_crossentropy\n",
    "from keras.layers.normalization import BatchNormalization\n",
    "from keras.layers.convolutional import *\n",
    "from keras.callbacks import Callback\n",
    "from keras.callbacks import ModelCheckpoint\n",
    "\n",
    "\n",
    "import keras\n",
    "from keras.models import Sequential\n",
    "from keras.layers import Conv2D, MaxPooling2D, LSTM, Dense, Dropout, Flatten, Activation\n",
    "from keras.layers.core import Permute, Reshape\n",
    "from keras import backend as K\n",
    "\n",
    "from matplotlib import pyplot as plt\n",
    "from PIL import Image as img_PIL\n",
    "\n",
    "\n",
    "# random seed.\n",
    "rand_seed = 2\n",
    "\n",
    "from numpy.random import seed\n",
    "seed(rand_seed)\n",
    "from tensorflow import set_random_seed\n",
    "set_random_seed(rand_seed)"
   ]
  },
  {
   "cell_type": "markdown",
   "metadata": {},
   "source": [
    "## 1. Loading the data"
   ]
  },
  {
   "cell_type": "code",
   "execution_count": 2,
   "metadata": {},
   "outputs": [],
   "source": [
    "def one_hot_encoding(y_data):\n",
    "    Mapping=dict()\n",
    "    sub_dirs=['downstair','upstair','run','jump','walk','handwashing','exercise']\n",
    "\n",
    "    categories=7\n",
    "\n",
    "    count=0\n",
    "    for i in sub_dirs:\n",
    "        Mapping[i]=count\n",
    "        count=count+1\n",
    "\n",
    "    y_features2=[]\n",
    "    for i in range(len(y_data)):\n",
    "        Type=y_data[i]\n",
    "        lab=Mapping[Type]\n",
    "        y_features2.append(lab)\n",
    "\n",
    "    y_features=np.array(y_features2)\n",
    "    y_features=y_features.reshape(y_features.shape[0],1)\n",
    "    from keras.utils import to_categorical\n",
    "    y_features = to_categorical(y_features)\n",
    "\n",
    "    return y_features"
   ]
  },
  {
   "cell_type": "code",
   "execution_count": 3,
   "metadata": {},
   "outputs": [],
   "source": [
    "path='data/'\n",
    "\n",
    "\n",
    "def get_train_data(path=path):\n",
    "    Train_data=np.load(path+'train_5000.npz')\n",
    "    Features_imu=Train_data['arr_0']\n",
    "    Labels=Train_data['arr_1']\n",
    "    Features_sound=Train_data['arr_2']\n",
    "\n",
    "    Labels = one_hot_encoding(Labels)\n",
    "    Features_imu = Features_imu.reshape(Features_imu.shape[0],1, Features_imu.shape[1], Features_imu.shape[2]) \n",
    "\n",
    "    return Features_imu,Labels,Features_sound\n",
    "\n",
    "def get_valid_data(path=path):\n",
    "    Train_data=np.load(path+'valid_1000.npz')\n",
    "    Features_imu=Train_data['arr_0']\n",
    "    Labels=Train_data['arr_1']\n",
    "    Features_sound=Train_data['arr_2']\n",
    "\n",
    "    Labels = one_hot_encoding(Labels)\n",
    "    Features_imu = Features_imu.reshape(Features_imu.shape[0],1, Features_imu.shape[1], Features_imu.shape[2]) \n",
    "\n",
    "    return Features_imu,Labels,Features_sound\n",
    "\n",
    "def get_test_data(path=path):\n",
    "    Train_data=np.load(path+'test_1377.npz')\n",
    "    Features_imu=Train_data['arr_0']\n",
    "    Labels=Train_data['arr_1']\n",
    "    Features_sound=Train_data['arr_2']\n",
    "\n",
    "    Labels = one_hot_encoding(Labels)\n",
    "    Features_imu = Features_imu.reshape(Features_imu.shape[0],1, Features_imu.shape[1], Features_imu.shape[2]) \n",
    "\n",
    "    return Features_imu,Labels,Features_sound\n"
   ]
  },
  {
   "cell_type": "code",
   "execution_count": 4,
   "metadata": {},
   "outputs": [
    {
     "name": "stdout",
     "output_type": "stream",
     "text": [
      "(5000, 1, 40, 12) (5000, 7) (5000, 193)\n",
      "Train Classes distribution:  [760. 994. 546. 780. 532. 732. 656.]\n",
      "(1000, 1, 40, 12) (1000, 7) (1000, 193)\n",
      "Valid Classes distribution:  [150. 188. 136. 141.  98. 157. 130.]\n",
      "(1377, 1, 40, 12) (1377, 7) (1377, 193)\n",
      "Test Classes distribution:  [219. 268. 124. 146. 143. 234. 243.]\n"
     ]
    }
   ],
   "source": [
    "Features_imu,Labels,Features_sound = get_train_data()\n",
    "print(Features_imu.shape, Labels.shape, Features_sound.shape)\n",
    "print('Train Classes distribution: ',np.sum(Labels, axis =0))\n",
    "\n",
    "Features_imu2,Labels2,Features_sound2 = get_valid_data()\n",
    "print(Features_imu2.shape, Labels2.shape, Features_sound2.shape)\n",
    "print('Valid Classes distribution: ',np.sum(Labels2, axis =0))\n",
    "\n",
    "Features_imu3,Labels3,Features_sound3 = get_test_data()\n",
    "print(Features_imu3.shape, Labels3.shape, Features_sound3.shape)\n",
    "print('Test Classes distribution: ',np.sum(Labels3, axis =0))"
   ]
  },
  {
   "cell_type": "code",
   "execution_count": 5,
   "metadata": {},
   "outputs": [],
   "source": [
    "model_path = 'data/IMU_Audio_Fusion_1000ms'\n",
    "\n",
    "from keras.models import load_model\n",
    "\n",
    "model = load_model(model_path)"
   ]
  },
  {
   "cell_type": "code",
   "execution_count": 6,
   "metadata": {},
   "outputs": [
    {
     "name": "stdout",
     "output_type": "stream",
     "text": [
      "1377/1377 [==============================] - 2s 1ms/step\n"
     ]
    },
    {
     "data": {
      "text/plain": [
       "[0.10806767817294642, 0.9724037763253449]"
      ]
     },
     "execution_count": 6,
     "metadata": {},
     "output_type": "execute_result"
    }
   ],
   "source": [
    "## Test Accuracy\n",
    "model.evaluate([Features_sound3,Features_imu3],Labels3)"
   ]
  },
  {
   "cell_type": "markdown",
   "metadata": {},
   "source": [
    "## Observation: All of these test labels are continuous.\n",
    "### Time window used to create a sample: 2 Second."
   ]
  },
  {
   "cell_type": "markdown",
   "metadata": {},
   "source": [
    "# Time shifting, our goal is to randomly insert the samples of different continuous windows in between which is to simulate the real-time deployment setting"
   ]
  },
  {
   "cell_type": "markdown",
   "metadata": {},
   "source": [
    "# First preprocess the data to get the continuous acc and gyro windows\n",
    "- data ordering: 12 sensors each with 40 samples.\n",
    "- 12 sensors are: acc_right, gyro_right, acc_left, gyro_left"
   ]
  },
  {
   "cell_type": "code",
   "execution_count": 7,
   "metadata": {},
   "outputs": [],
   "source": [
    "def get_test_data2(path=path):\n",
    "    Train_data=np.load(path+'test_1377.npz')\n",
    "    Features_imu=Train_data['arr_0']\n",
    "    Labels=Train_data['arr_1']\n",
    "    Features_sound=Train_data['arr_2']\n",
    "    \n",
    "    Features_imu = Features_imu.reshape(Features_imu.shape[0],1, Features_imu.shape[1], Features_imu.shape[2]) \n",
    "\n",
    "    return Features_imu,Labels,Features_sound"
   ]
  },
  {
   "cell_type": "code",
   "execution_count": 8,
   "metadata": {},
   "outputs": [
    {
     "name": "stdout",
     "output_type": "stream",
     "text": [
      "(1377, 1, 40, 12) (1377,) (1377, 193)\n"
     ]
    }
   ],
   "source": [
    "Features_imu_t1,Labels_t1,Features_sound_t1 = get_test_data2()\n",
    "print(Features_imu_t1.shape, Labels_t1.shape, Features_sound_t1.shape)"
   ]
  },
  {
   "cell_type": "code",
   "execution_count": 9,
   "metadata": {},
   "outputs": [],
   "source": [
    "# We see all of the labels are continuous\n",
    "Labels_t1 = np.array(Labels_t1)"
   ]
  },
  {
   "cell_type": "code",
   "execution_count": 10,
   "metadata": {},
   "outputs": [
    {
     "data": {
      "text/plain": [
       "array(['downstair', 'downstair', 'downstair', 'downstair', 'downstair',\n",
       "       'downstair', 'downstair', 'downstair', 'downstair', 'downstair',\n",
       "       'downstair', 'downstair', 'downstair', 'downstair', 'downstair',\n",
       "       'downstair', 'downstair', 'downstair', 'downstair', 'downstair',\n",
       "       'downstair', 'downstair', 'downstair', 'downstair', 'downstair',\n",
       "       'downstair', 'downstair', 'downstair', 'downstair', 'downstair',\n",
       "       'downstair', 'downstair', 'downstair', 'downstair', 'downstair',\n",
       "       'downstair', 'downstair', 'downstair', 'downstair', 'downstair',\n",
       "       'downstair', 'downstair', 'downstair', 'downstair', 'downstair',\n",
       "       'downstair', 'downstair', 'downstair', 'downstair', 'downstair',\n",
       "       'downstair', 'downstair', 'downstair', 'downstair', 'downstair',\n",
       "       'downstair', 'downstair', 'downstair', 'downstair', 'downstair',\n",
       "       'downstair', 'downstair', 'downstair', 'downstair', 'downstair',\n",
       "       'downstair', 'downstair', 'downstair', 'downstair', 'downstair',\n",
       "       'downstair', 'downstair', 'downstair', 'downstair', 'downstair',\n",
       "       'downstair', 'downstair', 'downstair', 'downstair', 'downstair',\n",
       "       'downstair', 'downstair', 'downstair', 'downstair', 'downstair',\n",
       "       'downstair', 'downstair', 'downstair', 'downstair', 'downstair',\n",
       "       'downstair', 'downstair', 'downstair', 'downstair', 'downstair',\n",
       "       'downstair', 'downstair', 'downstair', 'downstair', 'downstair'],\n",
       "      dtype='<U11')"
      ]
     },
     "execution_count": 10,
     "metadata": {},
     "output_type": "execute_result"
    }
   ],
   "source": [
    "Labels_t1[:100]"
   ]
  },
  {
   "cell_type": "markdown",
   "metadata": {},
   "source": [
    "# Getting windows of data together with num_windows_together in each"
   ]
  },
  {
   "cell_type": "code",
   "execution_count": 12,
   "metadata": {},
   "outputs": [],
   "source": [
    "# For 10 second together\n",
    "num_windows_together = 5\n",
    "\n",
    "curr_indx = 0\n",
    "final_indx = Features_imu_t1.shape[0]\n",
    "\n",
    "data_together = []\n",
    "\n",
    "while curr_indx <= final_indx:\n",
    "    IMU_together   = Features_imu_t1[curr_indx:curr_indx+num_windows_together]\n",
    "    sound_together = Features_sound_t1[curr_indx:curr_indx+num_windows_together]\n",
    "    labels_together = Labels_t1[curr_indx:curr_indx+num_windows_together]\n",
    "    \n",
    "    data_together.append([IMU_together,sound_together,labels_together])\n",
    "    \n",
    "    curr_indx = curr_indx+num_windows_together\n",
    "    "
   ]
  },
  {
   "cell_type": "markdown",
   "metadata": {},
   "source": [
    "# Now we randomly distribute the windows"
   ]
  },
  {
   "cell_type": "code",
   "execution_count": 13,
   "metadata": {},
   "outputs": [],
   "source": [
    "rand_seed = 4\n",
    "from numpy.random import seed\n",
    "seed(rand_seed)\n",
    "\n",
    "ordering = np.arange(len(data_together))\n",
    "np.random.shuffle(ordering)"
   ]
  },
  {
   "cell_type": "code",
   "execution_count": 14,
   "metadata": {},
   "outputs": [
    {
     "data": {
      "text/plain": [
       "array([166, 225, 146, 215,  82,  46,  18, 113, 253,  47, 171, 275,   6,\n",
       "       123, 250, 232, 203, 124,  45, 133, 111,  24,   1, 159, 212, 101,\n",
       "       137, 128, 139, 256,  33,  11, 106,  68,  39,  69, 110,  43,  83,\n",
       "       108, 169,  64, 223, 189, 134,  88, 235,  93, 191, 260, 249, 271,\n",
       "       254, 100,  92,  71, 103,  63, 267, 144,  13,  42,  14, 268, 182,\n",
       "       140,  84,  48, 130,  55, 184, 152, 251, 178,  20, 175, 129, 266,\n",
       "       269, 218, 227, 193, 261,  91, 216, 162, 229, 116, 121,  34, 233,\n",
       "       112, 247, 231, 239, 153,  57,  81,  70,  26])"
      ]
     },
     "execution_count": 14,
     "metadata": {},
     "output_type": "execute_result"
    }
   ],
   "source": [
    "ordering[:100]"
   ]
  },
  {
   "cell_type": "markdown",
   "metadata": {},
   "source": [
    "## Now we again recreate the test data"
   ]
  },
  {
   "cell_type": "code",
   "execution_count": 15,
   "metadata": {},
   "outputs": [],
   "source": [
    "indx = ordering[0]\n",
    "\n",
    "Features_imu_t1  = data_together[indx][0]\n",
    "Features_sound_t1 = data_together[indx][1]\n",
    "Labels_t1 = data_together[indx][2]\n",
    "\n",
    "\n",
    "#print(Features_imu_t1.shape,Labels_t1.shape,Features_sound_t1.shape)\n",
    "\n",
    "for i in range(1, len(data_together)):\n",
    "    indx = ordering[i]\n",
    "    IMU_together  = data_together[indx][0]\n",
    "    sound_together= data_together[indx][1]\n",
    "    labels_together=data_together[indx][2]\n",
    "    #print(indx, IMU_together.shape,sound_together.shape,labels_together.shape)\n",
    "    Features_imu_t1 = np.concatenate((Features_imu_t1,IMU_together),axis=0)\n",
    "    Labels_t1 = np.concatenate((Labels_t1,labels_together),axis=0)\n",
    "    Features_sound_t1 = np.concatenate((Features_sound_t1,sound_together),axis=0)\n",
    "    #print(indx, IMU_together.shape,sound_together.shape,labels_together.shape)"
   ]
  },
  {
   "cell_type": "code",
   "execution_count": 16,
   "metadata": {},
   "outputs": [
    {
     "name": "stdout",
     "output_type": "stream",
     "text": [
      "(1377, 1, 40, 12) (1377,) (1377, 193)\n"
     ]
    }
   ],
   "source": [
    "print(Features_imu_t1.shape, Labels_t1.shape, Features_sound_t1.shape)"
   ]
  },
  {
   "cell_type": "code",
   "execution_count": 17,
   "metadata": {},
   "outputs": [
    {
     "data": {
      "text/plain": [
       "array(['walk', 'walk', 'walk', 'walk', 'walk', 'handwashing',\n",
       "       'handwashing', 'handwashing', 'handwashing', 'handwashing', 'jump',\n",
       "       'jump', 'jump', 'jump', 'jump', 'handwashing', 'handwashing',\n",
       "       'handwashing', 'handwashing', 'handwashing', 'upstair', 'upstair',\n",
       "       'upstair', 'upstair', 'upstair', 'upstair', 'upstair', 'upstair',\n",
       "       'upstair', 'upstair', 'downstair', 'downstair', 'downstair',\n",
       "       'downstair', 'downstair', 'run', 'run', 'run', 'run', 'run',\n",
       "       'exercise', 'exercise', 'exercise', 'exercise', 'exercise',\n",
       "       'upstair', 'upstair', 'upstair', 'upstair', 'upstair', 'walk',\n",
       "       'walk', 'walk', 'walk', 'walk', 'exercise', 'exercise',\n",
       "       'downstair', 'downstair', 'downstair', 'downstair', 'downstair',\n",
       "       'jump', 'jump', 'jump', 'jump', 'jump', 'exercise', 'exercise',\n",
       "       'exercise', 'exercise', 'exercise', 'exercise', 'exercise',\n",
       "       'exercise', 'exercise', 'exercise', 'handwashing', 'handwashing',\n",
       "       'handwashing', 'handwashing', 'handwashing', 'jump', 'jump',\n",
       "       'jump', 'jump', 'jump', 'upstair', 'upstair', 'upstair', 'upstair',\n",
       "       'upstair', 'jump', 'jump', 'jump', 'jump', 'jump', 'run', 'run',\n",
       "       'run'], dtype='<U11')"
      ]
     },
     "execution_count": 17,
     "metadata": {},
     "output_type": "execute_result"
    }
   ],
   "source": [
    "Labels_t1[:100]"
   ]
  },
  {
   "cell_type": "code",
   "execution_count": 18,
   "metadata": {},
   "outputs": [],
   "source": [
    "Labels_t1 = one_hot_encoding(Labels_t1)"
   ]
  },
  {
   "cell_type": "markdown",
   "metadata": {},
   "source": [
    "# Testing accuracy on Reshuffled data.\n",
    "## Note: not time errors are introduced so Accuracy should be same as the fusion model on original continuous test data"
   ]
  },
  {
   "cell_type": "code",
   "execution_count": 19,
   "metadata": {},
   "outputs": [
    {
     "name": "stdout",
     "output_type": "stream",
     "text": [
      "1377/1377 [==============================] - 1s 986us/step\n"
     ]
    },
    {
     "data": {
      "text/plain": [
       "[0.10806768087495676, 0.9724037763253449]"
      ]
     },
     "execution_count": 19,
     "metadata": {},
     "output_type": "execute_result"
    }
   ],
   "source": [
    "model.evaluate([Features_sound_t1,Features_imu_t1],Labels_t1)"
   ]
  },
  {
   "cell_type": "markdown",
   "metadata": {},
   "source": [
    "# Now aggregating the data and doing the timing errors"
   ]
  },
  {
   "cell_type": "code",
   "execution_count": 20,
   "metadata": {},
   "outputs": [],
   "source": [
    "acc_right=[]\n",
    "gyro_right=[]\n",
    "acc_left=[]\n",
    "gyro_left=[]\n",
    "\n",
    "for i in range(Features_imu_t1.shape[0]):\n",
    "    acc_right.append([Features_imu_t1[i,0,:,0],Features_imu_t1[i,0,:,1],Features_imu_t1[i,0,:,2]])\n",
    "    gyro_right.append([Features_imu_t1[i,0,:,3],Features_imu_t1[i,0,:,4],Features_imu_t1[i,0,:,5]])\n",
    "    acc_left.append([Features_imu_t1[i,0,:,6],Features_imu_t1[i,0,:,7],Features_imu_t1[i,0,:,8]])\n",
    "    gyro_left.append([Features_imu_t1[i,0,:,9],Features_imu_t1[i,0,:,10],Features_imu_t1[i,0,:,11]])\n",
    "        "
   ]
  },
  {
   "cell_type": "code",
   "execution_count": 21,
   "metadata": {},
   "outputs": [],
   "source": [
    "acc_right=np.array(acc_right)\n",
    "gyro_right=np.array(gyro_right)\n",
    "acc_left=np.array(acc_left)\n",
    "gyro_left=np.array(gyro_left)"
   ]
  },
  {
   "cell_type": "code",
   "execution_count": 22,
   "metadata": {},
   "outputs": [
    {
     "name": "stdout",
     "output_type": "stream",
     "text": [
      "(1377, 3, 40)\n",
      "(1377, 3, 40)\n",
      "(1377, 3, 40)\n",
      "(1377, 3, 40)\n"
     ]
    }
   ],
   "source": [
    "print(acc_right.shape)\n",
    "print(gyro_right.shape)\n",
    "print(acc_left.shape)\n",
    "print(gyro_left.shape)"
   ]
  },
  {
   "cell_type": "code",
   "execution_count": 23,
   "metadata": {},
   "outputs": [],
   "source": [
    "acc_right_cont= acc_right[0,]\n",
    "gyro_right_cont= gyro_right[0,]\n",
    "\n",
    "acc_left_cont= acc_left[0,]\n",
    "gyro_left_cont= gyro_left[0,]\n",
    "\n",
    "\n",
    "for i in range(1, Features_imu_t1.shape[0]):\n",
    "    #print(i)\n",
    "    acc_right_cont=np.hstack((acc_right_cont,acc_right[i,]))\n",
    "    gyro_right_cont=np.hstack((gyro_right_cont,gyro_right[i,]))\n",
    "    acc_left_cont=np.hstack((acc_left_cont,acc_left[i,]))\n",
    "    gyro_left_cont=np.hstack((gyro_left_cont,gyro_left[i,]))"
   ]
  },
  {
   "cell_type": "code",
   "execution_count": 24,
   "metadata": {},
   "outputs": [
    {
     "name": "stdout",
     "output_type": "stream",
     "text": [
      "(3, 55080)\n",
      "(3, 55080)\n",
      "(3, 55080)\n",
      "(3, 55080)\n"
     ]
    }
   ],
   "source": [
    "print(acc_right_cont.shape)\n",
    "print(gyro_right_cont.shape)\n",
    "print(acc_left_cont.shape)\n",
    "print(gyro_left_cont.shape)\n"
   ]
  },
  {
   "cell_type": "markdown",
   "metadata": {},
   "source": [
    "# Now shifting the samples"
   ]
  },
  {
   "cell_type": "markdown",
   "metadata": {},
   "source": [
    "# Defining function to do the evaluation"
   ]
  },
  {
   "cell_type": "code",
   "execution_count": 27,
   "metadata": {},
   "outputs": [],
   "source": [
    "def get_data_sample_shift(shift_samples = 1):\n",
    "    sample_size = 40 #need to be 40, as decided during training\n",
    "    total_samples = acc_right_cont.shape[1]\n",
    "    \n",
    "    #print(total_samples)\n",
    "    \n",
    "    current_cursor = shift_samples\n",
    "\n",
    "    i = 0\n",
    "\n",
    "    acc_right_pro= np.array(acc_right_cont[np.newaxis,:,current_cursor:current_cursor+sample_size])\n",
    "\n",
    "    #print(acc_right_pro.shape)\n",
    "\n",
    "    gyro_right_pro= np.array(gyro_right_cont[np.newaxis,:,current_cursor:current_cursor+sample_size])\n",
    "\n",
    "    acc_left_pro= np.array(acc_left_cont[np.newaxis,:,current_cursor:current_cursor+sample_size])\n",
    "\n",
    "    gyro_left_pro= np.array(gyro_left_cont[np.newaxis,:,current_cursor:current_cursor+sample_size])\n",
    "\n",
    "    #print(np.array(acc_right_cont[np.newaxis,:,current_cursor:current_cursor+sample_size]).shape)\n",
    "\n",
    "    while current_cursor<=(total_samples-2*sample_size):\n",
    "        current_cursor = current_cursor + sample_size\n",
    "        #print(current_cursor,\" : \", i)\n",
    "        a=acc_right_pro\n",
    "        b=np.array(acc_right_cont[np.newaxis,:,current_cursor:current_cursor+sample_size])\n",
    "        acc_right_pro = np.concatenate((a,b),axis=0)\n",
    "\n",
    "\n",
    "        a=gyro_right_pro\n",
    "        b=np.array(gyro_right_cont[np.newaxis,:,current_cursor:current_cursor+sample_size])\n",
    "        gyro_right_pro = np.concatenate((a,b),axis=0)\n",
    "\n",
    "\n",
    "        a=acc_left_pro\n",
    "        b=np.array(acc_left_cont[np.newaxis,:,current_cursor:current_cursor+sample_size])\n",
    "        #print(a.shape,b.shape)\n",
    "        acc_left_pro = np.concatenate((a,b),axis=0)\n",
    "\n",
    "        a=gyro_left_pro\n",
    "        b=np.array(gyro_left_cont[np.newaxis,:,current_cursor:current_cursor+sample_size])\n",
    "        gyro_left_pro = np.concatenate((a,b),axis=0)\n",
    "        i = i+1\n",
    "        \n",
    "    IMU_processed = np.concatenate((acc_right_pro,gyro_right_pro,acc_left_pro,gyro_left_pro),axis=1)\n",
    "    IMU_processed = IMU_processed[:,np.newaxis,:,:]\n",
    "    IMU_processed = np.swapaxes(IMU_processed,2,3)\n",
    "        \n",
    "    size = IMU_processed.shape[0]\n",
    "        \n",
    "    return Features_sound_t1[:size], IMU_processed ,Labels_t1[:size]\n",
    "        \n"
   ]
  },
  {
   "cell_type": "code",
   "execution_count": 31,
   "metadata": {},
   "outputs": [],
   "source": [
    "Accuracy_vanilla = []\n",
    "Accuracy_1000ms = []"
   ]
  },
  {
   "cell_type": "code",
   "execution_count": 32,
   "metadata": {},
   "outputs": [],
   "source": [
    "model_path1 = 'data/Baseline_IMU_Audio_Fusion'\n",
    "model_path2 = 'data/IMU_Audio_Fusion_1000ms'\n",
    "\n",
    "from keras.models import load_model\n",
    "model1 = load_model(model_path1)\n",
    "model2 = load_model(model_path2)"
   ]
  },
  {
   "cell_type": "code",
   "execution_count": 33,
   "metadata": {
    "scrolled": true
   },
   "outputs": [
    {
     "name": "stdout",
     "output_type": "stream",
     "text": [
      "1377/1377 [==============================] - 2s 1ms/step\n",
      "1377/1377 [==============================] - 2s 1ms/step\n",
      "Shift is: 0 0.9607843137254902 0.9724037763253449\n",
      "1376/1376 [==============================] - 1s 945us/step\n",
      "1376/1376 [==============================] - 1s 919us/step\n",
      "Shift is: 1 0.9593023255813954 0.970203488372093\n",
      "1376/1376 [==============================] - 1s 895us/step\n",
      "1376/1376 [==============================] - 1s 920us/step\n",
      "Shift is: 2 0.9476744186046512 0.970203488372093\n",
      "1376/1376 [==============================] - 1s 886us/step\n",
      "1376/1376 [==============================] - 1s 926us/step\n",
      "Shift is: 3 0.9454941860465116 0.967296511627907\n",
      "1376/1376 [==============================] - 1s 877us/step\n",
      "1376/1376 [==============================] - 1s 936us/step\n",
      "Shift is: 4 0.9367732558139535 0.970203488372093\n",
      "1376/1376 [==============================] - 1s 910us/step\n",
      "1376/1376 [==============================] - 1s 868us/step\n",
      "Shift is: 5 0.934593023255814 0.9643895348837209\n",
      "1376/1376 [==============================] - 1s 878us/step\n",
      "1376/1376 [==============================] - 1s 865us/step\n",
      "Shift is: 6 0.9338662790697675 0.9622093023255814\n",
      "1376/1376 [==============================] - 1s 929us/step\n",
      "1376/1376 [==============================] - 1s 998us/step\n",
      "Shift is: 7 0.9265988372093024 0.9607558139534884\n",
      "1376/1376 [==============================] - 1s 931us/step\n",
      "1376/1376 [==============================] - 1s 958us/step\n",
      "Shift is: 8 0.9280523255813954 0.9607558139534884\n",
      "1376/1376 [==============================] - 1s 923us/step\n",
      "1376/1376 [==============================] - 1s 907us/step\n",
      "Shift is: 9 0.9200581395348837 0.9578488372093024\n",
      "1376/1376 [==============================] - 1s 901us/step\n",
      "1376/1376 [==============================] - 1s 952us/step\n",
      "Shift is: 10 0.9164244186046512 0.9593023255813954\n",
      "1376/1376 [==============================] - 1s 887us/step\n",
      "1376/1376 [==============================] - 1s 965us/step\n",
      "Shift is: 11 0.9127906976744186 0.9593023255813954\n",
      "1376/1376 [==============================] - 1s 920us/step\n",
      "1376/1376 [==============================] - 1s 985us/step\n",
      "Shift is: 12 0.9055232558139535 0.9578488372093024\n",
      "1376/1376 [==============================] - 1s 929us/step\n",
      "1376/1376 [==============================] - 1s 964us/step\n",
      "Shift is: 13 0.9084302325581395 0.9571220930232558\n",
      "1376/1376 [==============================] - 1s 933us/step\n",
      "1376/1376 [==============================] - 1s 907us/step\n",
      "Shift is: 14 0.8968023255813954 0.9549418604651163\n",
      "1376/1376 [==============================] - 1s 888us/step\n",
      "1376/1376 [==============================] - 1s 970us/step\n",
      "Shift is: 15 0.8938953488372093 0.9491279069767442\n",
      "1376/1376 [==============================] - 1s 895us/step\n",
      "1376/1376 [==============================] - 1s 985us/step\n",
      "Shift is: 16 0.8938953488372093 0.9469476744186046\n",
      "1376/1376 [==============================] - 1s 938us/step\n",
      "1376/1376 [==============================] - 1s 921us/step\n",
      "Shift is: 17 0.8975290697674418 0.9418604651162791\n",
      "1376/1376 [==============================] - 1s 937us/step\n",
      "1376/1376 [==============================] - 1s 923us/step\n",
      "Shift is: 18 0.9004360465116279 0.9447674418604651\n",
      "1376/1376 [==============================] - 1s 958us/step\n",
      "1376/1376 [==============================] - 1s 925us/step\n",
      "Shift is: 19 0.8880813953488372 0.9425872093023255\n",
      "1376/1376 [==============================] - 1s 931us/step\n",
      "1376/1376 [==============================] - 1s 949us/step\n",
      "Shift is: 20 0.8815406976744186 0.9462209302325582\n",
      "1376/1376 [==============================] - 1s 835us/step\n",
      "1376/1376 [==============================] - 1s 931us/step\n",
      "Shift is: 21 0.8684593023255814 0.9338662790697675\n",
      "1376/1376 [==============================] - 1s 928us/step\n",
      "1376/1376 [==============================] - 1s 962us/step\n",
      "Shift is: 22 0.8713662790697675 0.9324127906976745\n",
      "1376/1376 [==============================] - 1s 918us/step\n",
      "1376/1376 [==============================] - 1s 923us/step\n",
      "Shift is: 23 0.8713662790697675 0.9215116279069767\n",
      "1376/1376 [==============================] - 1s 879us/step\n",
      "1376/1376 [==============================] - 1s 934us/step\n",
      "Shift is: 24 0.8699127906976745 0.9229651162790697\n",
      "1376/1376 [==============================] - 1s 878us/step\n",
      "1376/1376 [==============================] - 1s 1ms/step\n",
      "Shift is: 25 0.8699127906976745 0.9215116279069767\n",
      "1376/1376 [==============================] - 1s 925us/step\n",
      "1376/1376 [==============================] - 1s 856us/step\n",
      "Shift is: 26 0.8662790697674418 0.9229651162790697\n",
      "1376/1376 [==============================] - 1s 936us/step\n",
      "1376/1376 [==============================] - 1s 963us/step\n",
      "Shift is: 27 0.8619186046511628 0.9156976744186046\n",
      "1376/1376 [==============================] - 1s 887us/step\n",
      "1376/1376 [==============================] - 1s 977us/step\n",
      "Shift is: 28 0.8640988372093024 0.9098837209302325\n",
      "1376/1376 [==============================] - 1s 891us/step\n",
      "1376/1376 [==============================] - 1s 967us/step\n",
      "Shift is: 29 0.846656976744186 0.9040697674418605\n",
      "1376/1376 [==============================] - 1s 850us/step\n",
      "1376/1376 [==============================] - 1s 943us/step\n",
      "Shift is: 30 0.8401162790697675 0.8953488372093024\n",
      "1376/1376 [==============================] - 1s 894us/step\n",
      "1376/1376 [==============================] - 1s 939us/step\n",
      "Shift is: 31 0.846656976744186 0.8960755813953488\n",
      "1376/1376 [==============================] - 1s 908us/step\n",
      "1376/1376 [==============================] - 1s 901us/step\n",
      "Shift is: 32 0.8415697674418605 0.8909883720930233\n",
      "1376/1376 [==============================] - 1s 959us/step\n",
      "1376/1376 [==============================] - 1s 869us/step\n",
      "Shift is: 33 0.8343023255813954 0.8880813953488372\n",
      "1376/1376 [==============================] - 1s 898us/step\n",
      "1376/1376 [==============================] - 1s 1ms/step\n",
      "Shift is: 34 0.8343023255813954 0.8866279069767442\n",
      "1376/1376 [==============================] - 1s 913us/step\n",
      "1376/1376 [==============================] - 1s 953us/step\n",
      "Shift is: 35 0.8321220930232558 0.8837209302325582\n",
      "1376/1376 [==============================] - 1s 965us/step\n",
      "1376/1376 [==============================] - 1s 865us/step\n",
      "Shift is: 36 0.8328488372093024 0.8859011627906976\n",
      "1376/1376 [==============================] - 1s 896us/step\n",
      "1376/1376 [==============================] - 1s 895us/step\n",
      "Shift is: 37 0.8343023255813954 0.8808139534883721\n",
      "1376/1376 [==============================] - 1s 959us/step\n",
      "1376/1376 [==============================] - 1s 969us/step\n",
      "Shift is: 38 0.8321220930232558 0.8742732558139535\n",
      "1376/1376 [==============================] - 1s 882us/step\n",
      "1376/1376 [==============================] - 1s 926us/step\n",
      "Shift is: 39 0.8321220930232558 0.8662790697674418\n",
      "1376/1376 [==============================] - 1s 856us/step\n",
      "1376/1376 [==============================] - 1s 966us/step\n",
      "Shift is: 40 0.8277616279069767 0.8670058139534884\n"
     ]
    }
   ],
   "source": [
    "for shift in range(41):\n",
    "    Features_sound, IMU ,Labels =  get_data_sample_shift(shift_samples = shift)\n",
    "    evaluation1 = model1.evaluate([Features_sound,IMU],Labels)\n",
    "    Accuracy_vanilla.append(evaluation1[1])\n",
    "    \n",
    "    evaluation2 = model2.evaluate([Features_sound,IMU],Labels)\n",
    "    Accuracy_1000ms.append(evaluation2[1])\n",
    "    \n",
    "    print(\"Shift is:\",shift,evaluation1[1],evaluation2[1])"
   ]
  },
  {
   "cell_type": "code",
   "execution_count": 34,
   "metadata": {},
   "outputs": [
    {
     "data": {
      "text/plain": [
       "[0.9607843137254902,\n",
       " 0.9593023255813954,\n",
       " 0.9476744186046512,\n",
       " 0.9454941860465116,\n",
       " 0.9367732558139535,\n",
       " 0.934593023255814,\n",
       " 0.9338662790697675,\n",
       " 0.9265988372093024,\n",
       " 0.9280523255813954,\n",
       " 0.9200581395348837,\n",
       " 0.9164244186046512,\n",
       " 0.9127906976744186,\n",
       " 0.9055232558139535,\n",
       " 0.9084302325581395,\n",
       " 0.8968023255813954,\n",
       " 0.8938953488372093,\n",
       " 0.8938953488372093,\n",
       " 0.8975290697674418,\n",
       " 0.9004360465116279,\n",
       " 0.8880813953488372,\n",
       " 0.8815406976744186,\n",
       " 0.8684593023255814,\n",
       " 0.8713662790697675,\n",
       " 0.8713662790697675,\n",
       " 0.8699127906976745,\n",
       " 0.8699127906976745,\n",
       " 0.8662790697674418,\n",
       " 0.8619186046511628,\n",
       " 0.8640988372093024,\n",
       " 0.846656976744186,\n",
       " 0.8401162790697675,\n",
       " 0.846656976744186,\n",
       " 0.8415697674418605,\n",
       " 0.8343023255813954,\n",
       " 0.8343023255813954,\n",
       " 0.8321220930232558,\n",
       " 0.8328488372093024,\n",
       " 0.8343023255813954,\n",
       " 0.8321220930232558,\n",
       " 0.8321220930232558,\n",
       " 0.8277616279069767]"
      ]
     },
     "execution_count": 34,
     "metadata": {},
     "output_type": "execute_result"
    }
   ],
   "source": [
    "Accuracy_vanilla"
   ]
  },
  {
   "cell_type": "code",
   "execution_count": 35,
   "metadata": {
    "scrolled": false
   },
   "outputs": [
    {
     "data": {
      "text/plain": [
       "[0.9724037763253449,\n",
       " 0.970203488372093,\n",
       " 0.970203488372093,\n",
       " 0.967296511627907,\n",
       " 0.970203488372093,\n",
       " 0.9643895348837209,\n",
       " 0.9622093023255814,\n",
       " 0.9607558139534884,\n",
       " 0.9607558139534884,\n",
       " 0.9578488372093024,\n",
       " 0.9593023255813954,\n",
       " 0.9593023255813954,\n",
       " 0.9578488372093024,\n",
       " 0.9571220930232558,\n",
       " 0.9549418604651163,\n",
       " 0.9491279069767442,\n",
       " 0.9469476744186046,\n",
       " 0.9418604651162791,\n",
       " 0.9447674418604651,\n",
       " 0.9425872093023255,\n",
       " 0.9462209302325582,\n",
       " 0.9338662790697675,\n",
       " 0.9324127906976745,\n",
       " 0.9215116279069767,\n",
       " 0.9229651162790697,\n",
       " 0.9215116279069767,\n",
       " 0.9229651162790697,\n",
       " 0.9156976744186046,\n",
       " 0.9098837209302325,\n",
       " 0.9040697674418605,\n",
       " 0.8953488372093024,\n",
       " 0.8960755813953488,\n",
       " 0.8909883720930233,\n",
       " 0.8880813953488372,\n",
       " 0.8866279069767442,\n",
       " 0.8837209302325582,\n",
       " 0.8859011627906976,\n",
       " 0.8808139534883721,\n",
       " 0.8742732558139535,\n",
       " 0.8662790697674418,\n",
       " 0.8670058139534884]"
      ]
     },
     "execution_count": 35,
     "metadata": {},
     "output_type": "execute_result"
    }
   ],
   "source": [
    "Accuracy_1000ms"
   ]
  },
  {
   "cell_type": "code",
   "execution_count": 37,
   "metadata": {},
   "outputs": [
    {
     "data": {
      "image/png": "[encoded data removed]",
      "text/plain": [
       "<Figure size 720x360 with 1 Axes>"
      ]
     },
     "metadata": {
      "needs_background": "light"
     },
     "output_type": "display_data"
    }
   ],
   "source": [
    "from matplotlib import pyplot as plt\n",
    "\n",
    "plt.figure(figsize=(10,5))\n",
    "plt.rcParams.update({'font.size': 18})\n",
    "\n",
    "y = np.arange(len(Accuracy_vanilla[:41]))\n",
    "\n",
    "y = y * 50\n",
    "\n",
    "plt.plot(y,(np.array(Accuracy_1000ms[:41])*100))\n",
    "plt.plot(y,(np.array(Accuracy_vanilla[:41])*100))\n",
    "\n",
    "#plt.title('Fused Model Accuracy')\n",
    "plt.ylabel('Accuracy')\n",
    "plt.xlabel('Time Synchronization Error (ms)')\n",
    "plt.legend(['Augmentation 1000ms','No Augmentation'], loc='lower left')\n",
    "plt.show()"
   ]
  },
  {
   "cell_type": "code",
   "execution_count": null,
   "metadata": {},
   "outputs": [],
   "source": []
  },
  {
   "cell_type": "code",
   "execution_count": null,
   "metadata": {},
   "outputs": [],
   "source": []
  }
 ],
 "metadata": {
  "kernelspec": {
   "display_name": "Python 3",
   "language": "python",
   "name": "python3"
  },
  "language_info": {
   "codemirror_mode": {
    "name": "ipython",
    "version": 3
   },
   "file_extension": ".py",
   "mimetype": "text/x-python",
   "name": "python",
   "nbconvert_exporter": "python",
   "pygments_lexer": "ipython3",
   "version": "3.6.12"
  }
 },
 "nbformat": 4,
 "nbformat_minor": 2
}
