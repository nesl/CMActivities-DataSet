{
 "cells": [
  {
   "cell_type": "code",
   "execution_count": 1,
   "metadata": {},
   "outputs": [
    {
     "name": "stderr",
     "output_type": "stream",
     "text": [
      "Using TensorFlow backend.\n"
     ]
    }
   ],
   "source": [
    "import numpy as np\n",
    "import scipy.io\n",
    "\n",
    "# random seed.\n",
    "rand_seed = 2\n",
    "\n",
    "from numpy.random import seed\n",
    "seed(rand_seed)\n",
    "from tensorflow import set_random_seed\n",
    "set_random_seed(rand_seed)\n",
    "\n",
    "import keras\n",
    "from keras.models import Sequential\n",
    "from keras.layers import Conv2D, MaxPooling2D, LSTM, Dense, Dropout, Flatten, Activation\n",
    "from keras.layers.core import Permute, Reshape\n",
    "from keras import backend as K"
   ]
  },
  {
   "cell_type": "code",
   "execution_count": 2,
   "metadata": {},
   "outputs": [],
   "source": [
    "def one_hot_encoding(y_data):\n",
    "    Mapping=dict()\n",
    "    sub_dirs=['downstair','upstair','run','jump','walk','handwashing','exercise']\n",
    "\n",
    "    categories=10\n",
    "\n",
    "    count=0\n",
    "    for i in sub_dirs:\n",
    "        Mapping[i]=count\n",
    "        count=count+1\n",
    "\n",
    "    y_features2=[]\n",
    "    for i in range(len(y_data)):\n",
    "        Type=y_data[i]\n",
    "        lab=Mapping[Type]\n",
    "        y_features2.append(lab)\n",
    "\n",
    "    y_features=np.array(y_features2)\n",
    "    y_features=y_features.reshape(y_features.shape[0],1)\n",
    "    from keras.utils import to_categorical\n",
    "    y_features = to_categorical(y_features)\n",
    "\n",
    "    return y_features"
   ]
  },
  {
   "cell_type": "code",
   "execution_count": 3,
   "metadata": {},
   "outputs": [],
   "source": [
    "path='ADD_PATH_To_Data'\n",
    "\n",
    "\n",
    "def get_train_data(path=path):\n",
    "    Train_data=np.load(path+'train_5000.npz')\n",
    "    Features_imu=Train_data['arr_0']\n",
    "    Labels=Train_data['arr_1']\n",
    "    Features_sound=Train_data['arr_2']\n",
    "\n",
    "    Labels = one_hot_encoding(Labels)\n",
    "    Features_imu = Features_imu.reshape(Features_imu.shape[0],1, Features_imu.shape[1], Features_imu.shape[2]) \n",
    "\n",
    "    return Features_imu,Labels,Features_sound\n",
    "\n",
    "def get_valid_data(path=path):\n",
    "    Train_data=np.load(path+'valid_1000.npz')\n",
    "    Features_imu=Train_data['arr_0']\n",
    "    Labels=Train_data['arr_1']\n",
    "    Features_sound=Train_data['arr_2']\n",
    "\n",
    "    Labels = one_hot_encoding(Labels)\n",
    "    Features_imu = Features_imu.reshape(Features_imu.shape[0],1, Features_imu.shape[1], Features_imu.shape[2]) \n",
    "\n",
    "    return Features_imu,Labels,Features_sound\n",
    "\n",
    "def get_test_data(path=path):\n",
    "    Train_data=np.load(path+'test_1377.npz')\n",
    "    Features_imu=Train_data['arr_0']\n",
    "    Labels=Train_data['arr_1']\n",
    "    Features_sound=Train_data['arr_2']\n",
    "\n",
    "    Labels = one_hot_encoding(Labels)\n",
    "    Features_imu = Features_imu.reshape(Features_imu.shape[0],1, Features_imu.shape[1], Features_imu.shape[2]) \n",
    "\n",
    "    return Features_imu,Labels,Features_sound"
   ]
  },
  {
   "cell_type": "code",
   "execution_count": 4,
   "metadata": {},
   "outputs": [
    {
     "name": "stdout",
     "output_type": "stream",
     "text": [
      "(5000, 1, 40, 12) (5000, 7) (5000, 193)\n",
      "Train Classes distribution:  [760. 994. 546. 780. 532. 732. 656.]\n",
      "(1000, 1, 40, 12) (1000, 7) (1000, 193)\n",
      "Valid Classes distribution:  [150. 188. 136. 141.  98. 157. 130.]\n",
      "(1377, 1, 40, 12) (1377, 7) (1377, 193)\n",
      "Test Classes distribution:  [219. 268. 124. 146. 143. 234. 243.]\n"
     ]
    }
   ],
   "source": [
    "Features_imu,Labels,Features_sound = get_train_data()\n",
    "print(Features_imu.shape, Labels.shape, Features_sound.shape)\n",
    "print('Train Classes distribution: ',np.sum(Labels, axis =0))\n",
    "\n",
    "Features_imu2,Labels2,Features_sound2 = get_valid_data()\n",
    "print(Features_imu2.shape, Labels2.shape, Features_sound2.shape)\n",
    "print('Valid Classes distribution: ',np.sum(Labels2, axis =0))\n",
    "\n",
    "Features_imu3,Labels3,Features_sound3 = get_test_data()\n",
    "print(Features_imu3.shape, Labels3.shape, Features_sound3.shape)\n",
    "print('Test Classes distribution: ',np.sum(Labels3, axis =0))\n",
    "\n"
   ]
  },
  {
   "cell_type": "markdown",
   "metadata": {},
   "source": [
    "# IMU Model"
   ]
  },
  {
   "cell_type": "code",
   "execution_count": 6,
   "metadata": {},
   "outputs": [],
   "source": [
    "# With dropout in the network\n",
    "\n",
    "num_feat_map = 32\n",
    "\n",
    "_, dim, win_len, _, = Features_imu.shape\n",
    "num_classes=7\n",
    "\n",
    "\n",
    "def full_imu_model():  \n",
    "    print('building the model ... ')        \n",
    "    model = Sequential()\n",
    "    model.add(Conv2D(num_feat_map, kernel_size=(1, 5),\n",
    "                 activation='relu',\n",
    "                  input_shape=(dim, win_len, 12),\n",
    "                 padding='same'))\n",
    "    model.add(MaxPooling2D(pool_size=(1, 2)))\n",
    "    model.add(Conv2D(num_feat_map, kernel_size=(1, 5), activation='relu',padding='same'))\n",
    "    model.add(MaxPooling2D(pool_size=(1, 2)))\n",
    "    model.add(Flatten())\n",
    "    model.add(Dense(256, name='DENSE_3'))\n",
    "    model.add(Activation('relu', name = 'ACT_3'))\n",
    "    model.add(Dropout(0.3))\n",
    "    model.add(Dense(128, name='DENSE_2'))\n",
    "    model.add(Activation('relu', name = 'ACT_2'))\n",
    "    model.add(Dense(64, name='DENSE_1'))\n",
    "    model.add(Activation('relu', name = 'ACT_1'))\n",
    "\n",
    "    model.add(Dense(num_classes, activation='softmax', name = 'OUTPUT'))\n",
    "    \n",
    "    return model"
   ]
  },
  {
   "cell_type": "code",
   "execution_count": 7,
   "metadata": {},
   "outputs": [
    {
     "name": "stdout",
     "output_type": "stream",
     "text": [
      "building the model ... \n"
     ]
    }
   ],
   "source": [
    "IMU_model = full_imu_model()"
   ]
  },
  {
   "cell_type": "code",
   "execution_count": 8,
   "metadata": {},
   "outputs": [
    {
     "name": "stdout",
     "output_type": "stream",
     "text": [
      "_________________________________________________________________\n",
      "Layer (type)                 Output Shape              Param #   \n",
      "=================================================================\n",
      "conv2d_1 (Conv2D)            (None, 1, 40, 32)         1952      \n",
      "_________________________________________________________________\n",
      "max_pooling2d_1 (MaxPooling2 (None, 1, 20, 32)         0         \n",
      "_________________________________________________________________\n",
      "conv2d_2 (Conv2D)            (None, 1, 20, 32)         5152      \n",
      "_________________________________________________________________\n",
      "max_pooling2d_2 (MaxPooling2 (None, 1, 10, 32)         0         \n",
      "_________________________________________________________________\n",
      "flatten_1 (Flatten)          (None, 320)               0         \n",
      "_________________________________________________________________\n",
      "DENSE_3 (Dense)              (None, 256)               82176     \n",
      "_________________________________________________________________\n",
      "ACT_3 (Activation)           (None, 256)               0         \n",
      "_________________________________________________________________\n",
      "dropout_1 (Dropout)          (None, 256)               0         \n",
      "_________________________________________________________________\n",
      "DENSE_2 (Dense)              (None, 128)               32896     \n",
      "_________________________________________________________________\n",
      "ACT_2 (Activation)           (None, 128)               0         \n",
      "_________________________________________________________________\n",
      "DENSE_1 (Dense)              (None, 64)                8256      \n",
      "_________________________________________________________________\n",
      "ACT_1 (Activation)           (None, 64)                0         \n",
      "_________________________________________________________________\n",
      "OUTPUT (Dense)               (None, 7)                 455       \n",
      "=================================================================\n",
      "Total params: 130,887\n",
      "Trainable params: 130,887\n",
      "Non-trainable params: 0\n",
      "_________________________________________________________________\n"
     ]
    }
   ],
   "source": [
    "IMU_model.summary()"
   ]
  },
  {
   "cell_type": "code",
   "execution_count": 9,
   "metadata": {},
   "outputs": [],
   "source": [
    "model_path = '/home/nesl/Sandeep/Trained_models/IMU_Example'\n",
    "\n",
    "\n",
    "from keras.callbacks import ReduceLROnPlateau\n",
    "from keras.callbacks import Callback\n",
    "from keras.callbacks import ModelCheckpoint\n",
    "\n",
    "checkpointer = ModelCheckpoint(filepath=model_path, verbose=1,monitor='val_acc' ,save_best_only=True, save_weights_only=False)"
   ]
  },
  {
   "cell_type": "code",
   "execution_count": 10,
   "metadata": {
    "scrolled": true
   },
   "outputs": [
    {
     "name": "stdout",
     "output_type": "stream",
     "text": [
      "Train on 5000 samples, validate on 1000 samples\n",
      "Epoch 1/50\n",
      "5000/5000 [==============================] - 4s 778us/step - loss: 7.1730 - acc: 0.2948 - val_loss: 1.7285 - val_acc: 0.5480\n",
      "\n",
      "Epoch 00001: val_acc improved from -inf to 0.54800, saving model to /home/nesl/Sandeep/Trained_models/IMU_Example\n",
      "Epoch 2/50\n",
      "5000/5000 [==============================] - 2s 367us/step - loss: 1.4818 - acc: 0.5706 - val_loss: 0.9326 - val_acc: 0.6940\n",
      "\n",
      "Epoch 00002: val_acc improved from 0.54800 to 0.69400, saving model to /home/nesl/Sandeep/Trained_models/IMU_Example\n",
      "Epoch 3/50\n",
      "5000/5000 [==============================] - 2s 369us/step - loss: 0.8863 - acc: 0.7014 - val_loss: 0.6737 - val_acc: 0.7660\n",
      "\n",
      "Epoch 00003: val_acc improved from 0.69400 to 0.76600, saving model to /home/nesl/Sandeep/Trained_models/IMU_Example\n",
      "Epoch 4/50\n",
      "5000/5000 [==============================] - 2s 377us/step - loss: 0.7075 - acc: 0.7600 - val_loss: 0.5527 - val_acc: 0.8260\n",
      "\n",
      "Epoch 00004: val_acc improved from 0.76600 to 0.82600, saving model to /home/nesl/Sandeep/Trained_models/IMU_Example\n",
      "Epoch 5/50\n",
      "5000/5000 [==============================] - 2s 381us/step - loss: 0.5108 - acc: 0.8196 - val_loss: 0.4919 - val_acc: 0.8480\n",
      "\n",
      "Epoch 00005: val_acc improved from 0.82600 to 0.84800, saving model to /home/nesl/Sandeep/Trained_models/IMU_Example\n",
      "Epoch 6/50\n",
      "5000/5000 [==============================] - 2s 380us/step - loss: 0.4079 - acc: 0.8582 - val_loss: 0.4105 - val_acc: 0.8770\n",
      "\n",
      "Epoch 00006: val_acc improved from 0.84800 to 0.87700, saving model to /home/nesl/Sandeep/Trained_models/IMU_Example\n",
      "Epoch 7/50\n",
      "5000/5000 [==============================] - 2s 379us/step - loss: 0.3525 - acc: 0.8758 - val_loss: 0.3866 - val_acc: 0.8720\n",
      "\n",
      "Epoch 00007: val_acc did not improve from 0.87700\n",
      "Epoch 8/50\n",
      "5000/5000 [==============================] - 2s 381us/step - loss: 0.2782 - acc: 0.8962 - val_loss: 0.3512 - val_acc: 0.8960\n",
      "\n",
      "Epoch 00008: val_acc improved from 0.87700 to 0.89600, saving model to /home/nesl/Sandeep/Trained_models/IMU_Example\n",
      "Epoch 9/50\n",
      "5000/5000 [==============================] - 2s 375us/step - loss: 0.2436 - acc: 0.9144 - val_loss: 0.3313 - val_acc: 0.9110\n",
      "\n",
      "Epoch 00009: val_acc improved from 0.89600 to 0.91100, saving model to /home/nesl/Sandeep/Trained_models/IMU_Example\n",
      "Epoch 10/50\n",
      "5000/5000 [==============================] - 2s 371us/step - loss: 0.2328 - acc: 0.9144 - val_loss: 0.3093 - val_acc: 0.8970\n",
      "\n",
      "Epoch 00010: val_acc did not improve from 0.91100\n",
      "Epoch 11/50\n",
      "5000/5000 [==============================] - 2s 374us/step - loss: 0.1895 - acc: 0.9324 - val_loss: 0.3275 - val_acc: 0.9060\n",
      "\n",
      "Epoch 00011: val_acc did not improve from 0.91100\n",
      "Epoch 12/50\n",
      "5000/5000 [==============================] - 2s 375us/step - loss: 0.1689 - acc: 0.9418 - val_loss: 0.3287 - val_acc: 0.9090\n",
      "\n",
      "Epoch 00012: val_acc did not improve from 0.91100\n",
      "Epoch 13/50\n",
      "5000/5000 [==============================] - 2s 373us/step - loss: 0.1497 - acc: 0.9448 - val_loss: 0.3063 - val_acc: 0.9210\n",
      "\n",
      "Epoch 00013: val_acc improved from 0.91100 to 0.92100, saving model to /home/nesl/Sandeep/Trained_models/IMU_Example\n",
      "Epoch 14/50\n",
      "5000/5000 [==============================] - 2s 375us/step - loss: 0.1506 - acc: 0.9492 - val_loss: 0.3640 - val_acc: 0.9160\n",
      "\n",
      "Epoch 00014: val_acc did not improve from 0.92100\n",
      "Epoch 15/50\n",
      "5000/5000 [==============================] - 2s 379us/step - loss: 0.1956 - acc: 0.9370 - val_loss: 0.3261 - val_acc: 0.9250\n",
      "\n",
      "Epoch 00015: val_acc improved from 0.92100 to 0.92500, saving model to /home/nesl/Sandeep/Trained_models/IMU_Example\n",
      "Epoch 16/50\n",
      "5000/5000 [==============================] - 2s 371us/step - loss: 0.1266 - acc: 0.9546 - val_loss: 0.3187 - val_acc: 0.9290\n",
      "\n",
      "Epoch 00016: val_acc improved from 0.92500 to 0.92900, saving model to /home/nesl/Sandeep/Trained_models/IMU_Example\n",
      "Epoch 17/50\n",
      "5000/5000 [==============================] - 2s 363us/step - loss: 0.1093 - acc: 0.9590 - val_loss: 0.3072 - val_acc: 0.9300\n",
      "\n",
      "Epoch 00017: val_acc improved from 0.92900 to 0.93000, saving model to /home/nesl/Sandeep/Trained_models/IMU_Example\n",
      "Epoch 18/50\n",
      "5000/5000 [==============================] - 2s 368us/step - loss: 0.0929 - acc: 0.9660 - val_loss: 0.3289 - val_acc: 0.9290\n",
      "\n",
      "Epoch 00018: val_acc did not improve from 0.93000\n",
      "Epoch 19/50\n",
      "5000/5000 [==============================] - 2s 366us/step - loss: 0.0836 - acc: 0.9692 - val_loss: 0.3515 - val_acc: 0.9240\n",
      "\n",
      "Epoch 00019: val_acc did not improve from 0.93000\n",
      "Epoch 20/50\n",
      "5000/5000 [==============================] - 2s 372us/step - loss: 0.0821 - acc: 0.9694 - val_loss: 0.3086 - val_acc: 0.9310\n",
      "\n",
      "Epoch 00020: val_acc improved from 0.93000 to 0.93100, saving model to /home/nesl/Sandeep/Trained_models/IMU_Example\n",
      "Epoch 21/50\n",
      "5000/5000 [==============================] - 2s 368us/step - loss: 0.0778 - acc: 0.9736 - val_loss: 0.3271 - val_acc: 0.9330\n",
      "\n",
      "Epoch 00021: val_acc improved from 0.93100 to 0.93300, saving model to /home/nesl/Sandeep/Trained_models/IMU_Example\n",
      "Epoch 22/50\n",
      "5000/5000 [==============================] - 2s 367us/step - loss: 0.0717 - acc: 0.9782 - val_loss: 0.3152 - val_acc: 0.9310\n",
      "\n",
      "Epoch 00022: val_acc did not improve from 0.93300\n",
      "Epoch 23/50\n",
      "5000/5000 [==============================] - 2s 377us/step - loss: 0.0593 - acc: 0.9790 - val_loss: 0.3356 - val_acc: 0.9340\n",
      "\n",
      "Epoch 00023: val_acc improved from 0.93300 to 0.93400, saving model to /home/nesl/Sandeep/Trained_models/IMU_Example\n",
      "Epoch 24/50\n",
      "5000/5000 [==============================] - 2s 366us/step - loss: 0.0518 - acc: 0.9816 - val_loss: 0.3405 - val_acc: 0.9360\n",
      "\n",
      "Epoch 00024: val_acc improved from 0.93400 to 0.93600, saving model to /home/nesl/Sandeep/Trained_models/IMU_Example\n",
      "Epoch 25/50\n",
      "5000/5000 [==============================] - 2s 375us/step - loss: 0.0708 - acc: 0.9774 - val_loss: 0.3698 - val_acc: 0.9320\n",
      "\n",
      "Epoch 00025: val_acc did not improve from 0.93600\n",
      "Epoch 26/50\n",
      "5000/5000 [==============================] - 2s 365us/step - loss: 0.0825 - acc: 0.9758 - val_loss: 0.3779 - val_acc: 0.9260\n",
      "\n",
      "Epoch 00026: val_acc did not improve from 0.93600\n",
      "Epoch 27/50\n",
      "5000/5000 [==============================] - 2s 364us/step - loss: 0.0648 - acc: 0.9772 - val_loss: 0.3892 - val_acc: 0.9270\n",
      "\n",
      "Epoch 00027: val_acc did not improve from 0.93600\n",
      "Epoch 28/50\n",
      "5000/5000 [==============================] - 2s 372us/step - loss: 0.0637 - acc: 0.9780 - val_loss: 0.2924 - val_acc: 0.9380\n",
      "\n",
      "Epoch 00028: val_acc improved from 0.93600 to 0.93800, saving model to /home/nesl/Sandeep/Trained_models/IMU_Example\n",
      "Epoch 29/50\n",
      "5000/5000 [==============================] - 2s 372us/step - loss: 0.0563 - acc: 0.9818 - val_loss: 0.3104 - val_acc: 0.9390\n",
      "\n",
      "Epoch 00029: val_acc improved from 0.93800 to 0.93900, saving model to /home/nesl/Sandeep/Trained_models/IMU_Example\n",
      "Epoch 30/50\n",
      "5000/5000 [==============================] - 2s 373us/step - loss: 0.0533 - acc: 0.9830 - val_loss: 0.3488 - val_acc: 0.9390\n",
      "\n",
      "Epoch 00030: val_acc did not improve from 0.93900\n",
      "Epoch 31/50\n",
      "5000/5000 [==============================] - 2s 369us/step - loss: 0.1430 - acc: 0.9532 - val_loss: 0.2924 - val_acc: 0.9360\n",
      "\n",
      "Epoch 00031: val_acc did not improve from 0.93900\n",
      "Epoch 32/50\n",
      "5000/5000 [==============================] - 2s 371us/step - loss: 0.0813 - acc: 0.9768 - val_loss: 0.2682 - val_acc: 0.9440\n",
      "\n",
      "Epoch 00032: val_acc improved from 0.93900 to 0.94400, saving model to /home/nesl/Sandeep/Trained_models/IMU_Example\n",
      "Epoch 33/50\n",
      "5000/5000 [==============================] - 2s 374us/step - loss: 0.0509 - acc: 0.9858 - val_loss: 0.3065 - val_acc: 0.9350\n",
      "\n",
      "Epoch 00033: val_acc did not improve from 0.94400\n",
      "Epoch 34/50\n",
      "5000/5000 [==============================] - 2s 373us/step - loss: 0.0483 - acc: 0.9842 - val_loss: 0.2917 - val_acc: 0.9430\n",
      "\n",
      "Epoch 00034: val_acc did not improve from 0.94400\n",
      "Epoch 35/50\n",
      "5000/5000 [==============================] - 2s 371us/step - loss: 0.0373 - acc: 0.9874 - val_loss: 0.2978 - val_acc: 0.9420\n",
      "\n",
      "Epoch 00035: val_acc did not improve from 0.94400\n",
      "Epoch 36/50\n",
      "5000/5000 [==============================] - 2s 371us/step - loss: 0.0414 - acc: 0.9868 - val_loss: 0.3097 - val_acc: 0.9450\n",
      "\n",
      "Epoch 00036: val_acc improved from 0.94400 to 0.94500, saving model to /home/nesl/Sandeep/Trained_models/IMU_Example\n",
      "Epoch 37/50\n"
     ]
    },
    {
     "name": "stdout",
     "output_type": "stream",
     "text": [
      "5000/5000 [==============================] - 2s 371us/step - loss: 0.0446 - acc: 0.9862 - val_loss: 0.3315 - val_acc: 0.9360\n",
      "\n",
      "Epoch 00037: val_acc did not improve from 0.94500\n",
      "Epoch 38/50\n",
      "5000/5000 [==============================] - 2s 371us/step - loss: 0.0467 - acc: 0.9880 - val_loss: 0.3178 - val_acc: 0.9400\n",
      "\n",
      "Epoch 00038: val_acc did not improve from 0.94500\n",
      "Epoch 39/50\n",
      "5000/5000 [==============================] - 2s 371us/step - loss: 0.0410 - acc: 0.9884 - val_loss: 0.3011 - val_acc: 0.9440\n",
      "\n",
      "Epoch 00039: val_acc did not improve from 0.94500\n",
      "Epoch 40/50\n",
      "5000/5000 [==============================] - 2s 377us/step - loss: 0.0306 - acc: 0.9914 - val_loss: 0.3132 - val_acc: 0.9500\n",
      "\n",
      "Epoch 00040: val_acc improved from 0.94500 to 0.95000, saving model to /home/nesl/Sandeep/Trained_models/IMU_Example\n",
      "Epoch 41/50\n",
      "5000/5000 [==============================] - 2s 376us/step - loss: 0.0297 - acc: 0.9932 - val_loss: 0.3043 - val_acc: 0.9430\n",
      "\n",
      "Epoch 00041: val_acc did not improve from 0.95000\n",
      "Epoch 42/50\n",
      "5000/5000 [==============================] - 2s 380us/step - loss: 0.0370 - acc: 0.9892 - val_loss: 0.3681 - val_acc: 0.9380\n",
      "\n",
      "Epoch 00042: val_acc did not improve from 0.95000\n",
      "Epoch 43/50\n",
      "5000/5000 [==============================] - 2s 373us/step - loss: 0.0662 - acc: 0.9812 - val_loss: 0.3723 - val_acc: 0.9420\n",
      "\n",
      "Epoch 00043: val_acc did not improve from 0.95000\n",
      "Epoch 44/50\n",
      "5000/5000 [==============================] - 2s 372us/step - loss: 0.0687 - acc: 0.9800 - val_loss: 0.3172 - val_acc: 0.9380\n",
      "\n",
      "Epoch 00044: val_acc did not improve from 0.95000\n",
      "Epoch 45/50\n",
      "5000/5000 [==============================] - 2s 369us/step - loss: 0.0536 - acc: 0.9850 - val_loss: 0.3293 - val_acc: 0.9370\n",
      "\n",
      "Epoch 00045: val_acc did not improve from 0.95000\n",
      "Epoch 46/50\n",
      "5000/5000 [==============================] - 2s 374us/step - loss: 0.0404 - acc: 0.9866 - val_loss: 0.2879 - val_acc: 0.9440\n",
      "\n",
      "Epoch 00046: val_acc did not improve from 0.95000\n",
      "Epoch 47/50\n",
      "5000/5000 [==============================] - 2s 375us/step - loss: 0.0312 - acc: 0.9908 - val_loss: 0.2984 - val_acc: 0.9450\n",
      "\n",
      "Epoch 00047: val_acc did not improve from 0.95000\n",
      "Epoch 48/50\n",
      "5000/5000 [==============================] - 2s 375us/step - loss: 0.0307 - acc: 0.9912 - val_loss: 0.3275 - val_acc: 0.9400\n",
      "\n",
      "Epoch 00048: val_acc did not improve from 0.95000\n",
      "Epoch 49/50\n",
      "5000/5000 [==============================] - 2s 387us/step - loss: 0.0235 - acc: 0.9912 - val_loss: 0.2939 - val_acc: 0.9450\n",
      "\n",
      "Epoch 00049: val_acc did not improve from 0.95000\n",
      "Epoch 50/50\n",
      "5000/5000 [==============================] - 2s 370us/step - loss: 0.0373 - acc: 0.9894 - val_loss: 0.3405 - val_acc: 0.9420\n",
      "\n",
      "Epoch 00050: val_acc did not improve from 0.95000\n",
      "---Time 96.7810389995575 seconds ---\n"
     ]
    }
   ],
   "source": [
    "batch_size = 128\n",
    "epochs = 50\n",
    "from keras import optimizers\n",
    "from keras.optimizers import Adam\n",
    "\n",
    "adam = optimizers.Adam(lr=0.001, beta_1=0.9, beta_2=0.999, epsilon=None, decay=0.0, amsgrad=False)\n",
    "IMU_model.compile(loss=keras.losses.categorical_crossentropy,\n",
    "              optimizer= adam,\n",
    "              metrics=['accuracy'])\n",
    "\n",
    "import time\n",
    "start_time = time.time()\n",
    "\n",
    "learning_hist = IMU_model.fit(Features_imu, Labels,\n",
    "                    verbose=1,\n",
    "                    epochs=epochs,\n",
    "                        shuffle=True,\n",
    "                    batch_size=batch_size,\n",
    "                        callbacks=[checkpointer],\n",
    "                    validation_data=(Features_imu2, Labels2))\n",
    "\n",
    "end_time = time.time()\n",
    "\n",
    "print(\"---Time %s seconds ---\" % (end_time - start_time))"
   ]
  },
  {
   "cell_type": "code",
   "execution_count": 11,
   "metadata": {},
   "outputs": [],
   "source": [
    "from keras.models import load_model\n",
    "\n",
    "IMU_model = load_model(model_path)"
   ]
  },
  {
   "cell_type": "code",
   "execution_count": 12,
   "metadata": {},
   "outputs": [
    {
     "name": "stdout",
     "output_type": "stream",
     "text": [
      "5000/5000 [==============================] - 2s 374us/step\n"
     ]
    },
    {
     "data": {
      "text/plain": [
       "[0.009534283232755843, 0.9982]"
      ]
     },
     "execution_count": 12,
     "metadata": {},
     "output_type": "execute_result"
    }
   ],
   "source": [
    "#Train Accuracy\n",
    "IMU_model.evaluate(Features_imu,Labels)"
   ]
  },
  {
   "cell_type": "code",
   "execution_count": 13,
   "metadata": {},
   "outputs": [
    {
     "name": "stdout",
     "output_type": "stream",
     "text": [
      "1000/1000 [==============================] - 0s 359us/step\n"
     ]
    },
    {
     "data": {
      "text/plain": [
       "[0.31315830117464066, 0.95]"
      ]
     },
     "execution_count": 13,
     "metadata": {},
     "output_type": "execute_result"
    }
   ],
   "source": [
    "#valid Accuracy\n",
    "IMU_model.evaluate(Features_imu2,Labels2)"
   ]
  },
  {
   "cell_type": "code",
   "execution_count": 14,
   "metadata": {},
   "outputs": [
    {
     "name": "stdout",
     "output_type": "stream",
     "text": [
      "1377/1377 [==============================] - 1s 371us/step\n"
     ]
    },
    {
     "data": {
      "text/plain": [
       "[0.41778624388540914, 0.90559186637618]"
      ]
     },
     "execution_count": 14,
     "metadata": {},
     "output_type": "execute_result"
    }
   ],
   "source": [
    "#Test Accuracy\n",
    "IMU_model.evaluate(Features_imu3,Labels3)"
   ]
  },
  {
   "cell_type": "markdown",
   "metadata": {},
   "source": [
    "# Plotting"
   ]
  },
  {
   "cell_type": "code",
   "execution_count": 44,
   "metadata": {},
   "outputs": [
    {
     "name": "stdout",
     "output_type": "stream",
     "text": [
      "dict_keys(['val_loss', 'val_acc', 'acc', 'loss'])\n"
     ]
    },
    {
     "data": {
      "image/png": "[encoded data removed]",
      "text/plain": [
       "<Figure size 720x360 with 1 Axes>"
      ]
     },
     "metadata": {
      "needs_background": "light"
     },
     "output_type": "display_data"
    }
   ],
   "source": [
    "from matplotlib import pyplot as plt\n",
    "\n",
    "print(learning_hist.history.keys())\n",
    "plt.rcParams.update({'font.size': 18})\n",
    "\n",
    "plt.figure(figsize=(10,5))\n",
    "\n",
    "plt.plot(learning_hist.history['acc'])\n",
    "plt.plot(learning_hist.history['val_acc'])\n",
    "plt.title('model accuracy')\n",
    "plt.ylabel('accuracy')\n",
    "plt.xlabel('epoch')\n",
    "plt.legend(['train', 'Valid'], loc='upper right')\n",
    "plt.show()"
   ]
  },
  {
   "cell_type": "code",
   "execution_count": 45,
   "metadata": {},
   "outputs": [
    {
     "data": {
      "image/png": "[encoded data removed]",
      "text/plain": [
       "<Figure size 720x360 with 1 Axes>"
      ]
     },
     "metadata": {
      "needs_background": "light"
     },
     "output_type": "display_data"
    }
   ],
   "source": [
    "# summarize history for loss\n",
    "\n",
    "from matplotlib import pyplot as plt\n",
    "\n",
    "plt.figure(figsize=(10,5))\n",
    "plt.rcParams.update({'font.size': 18})\n",
    "\n",
    "\n",
    "plt.plot(learning_hist.history['loss'])\n",
    "plt.plot(learning_hist.history['val_loss'])\n",
    "plt.title('model loss')\n",
    "plt.ylabel('loss')\n",
    "plt.xlabel('epoch')\n",
    "plt.legend(['train', 'Valid'], loc='upper right')\n",
    "plt.show()"
   ]
  },
  {
   "cell_type": "code",
   "execution_count": null,
   "metadata": {},
   "outputs": [],
   "source": []
  }
 ],
 "metadata": {
  "kernelspec": {
   "display_name": "Python 3",
   "language": "python",
   "name": "python3"
  },
  "language_info": {
   "codemirror_mode": {
    "name": "ipython",
    "version": 3
   },
   "file_extension": ".py",
   "mimetype": "text/x-python",
   "name": "python",
   "nbconvert_exporter": "python",
   "pygments_lexer": "ipython3",
   "version": "3.5.2"
  }
 },
 "nbformat": 4,
 "nbformat_minor": 2
}
